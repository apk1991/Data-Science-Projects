{
 "cells": [
  {
   "cell_type": "markdown",
   "id": "printable-carnival",
   "metadata": {},
   "source": [
    "### Economic Status and Life Expectancy\n",
    "\n",
    "Over the course of the past few centuries, technological and medical advancements have helped increase the life expectancy of humans. However, as of now, the average life expectancy of humans varies depending on what country you live in.\n",
    "\n",
    "In this project, we will investigate a dataset containing information about the average life expectancy in 158 different countries. We will specifically look at how a country’s economic success might impact the life expectancy in that area.\n",
    "\n",
    "We will be using the statistical calculations, particularly quartiles, quantiles and IQR."
   ]
  },
  {
   "cell_type": "code",
   "execution_count": 1,
   "id": "knowing-packing",
   "metadata": {},
   "outputs": [],
   "source": [
    "# let's import the libraries first.\n",
    "import numpy as np\n",
    "import pandas as pd\n",
    "import matplotlib.pyplot as plt"
   ]
  },
  {
   "cell_type": "code",
   "execution_count": 2,
   "id": "small-fellow",
   "metadata": {},
   "outputs": [],
   "source": [
    "# let's load the data and get a sense of wha this data looks like.\n",
    "data = pd.read_csv(r\"C:\\Users\\amanp\\OneDrive\\Desktop\\country_data.csv\")"
   ]
  },
  {
   "cell_type": "code",
   "execution_count": 3,
   "id": "according-asset",
   "metadata": {},
   "outputs": [
    {
     "data": {
      "text/html": [
       "<div>\n",
       "<style scoped>\n",
       "    .dataframe tbody tr th:only-of-type {\n",
       "        vertical-align: middle;\n",
       "    }\n",
       "\n",
       "    .dataframe tbody tr th {\n",
       "        vertical-align: top;\n",
       "    }\n",
       "\n",
       "    .dataframe thead th {\n",
       "        text-align: right;\n",
       "    }\n",
       "</style>\n",
       "<table border=\"1\" class=\"dataframe\">\n",
       "  <thead>\n",
       "    <tr style=\"text-align: right;\">\n",
       "      <th></th>\n",
       "      <th>Country</th>\n",
       "      <th>Life Expectancy</th>\n",
       "      <th>GDP</th>\n",
       "    </tr>\n",
       "  </thead>\n",
       "  <tbody>\n",
       "    <tr>\n",
       "      <th>0</th>\n",
       "      <td>Afghanistan</td>\n",
       "      <td>58.19375</td>\n",
       "      <td>340.015425</td>\n",
       "    </tr>\n",
       "    <tr>\n",
       "      <th>1</th>\n",
       "      <td>Albania</td>\n",
       "      <td>75.15625</td>\n",
       "      <td>2119.726679</td>\n",
       "    </tr>\n",
       "    <tr>\n",
       "      <th>2</th>\n",
       "      <td>Algeria</td>\n",
       "      <td>73.61875</td>\n",
       "      <td>2847.853392</td>\n",
       "    </tr>\n",
       "    <tr>\n",
       "      <th>3</th>\n",
       "      <td>Angola</td>\n",
       "      <td>49.01875</td>\n",
       "      <td>1975.143045</td>\n",
       "    </tr>\n",
       "    <tr>\n",
       "      <th>4</th>\n",
       "      <td>Antigua and Barbuda</td>\n",
       "      <td>75.05625</td>\n",
       "      <td>9759.305728</td>\n",
       "    </tr>\n",
       "  </tbody>\n",
       "</table>\n",
       "</div>"
      ],
      "text/plain": [
       "               Country  Life Expectancy          GDP\n",
       "0          Afghanistan         58.19375   340.015425\n",
       "1              Albania         75.15625  2119.726679\n",
       "2              Algeria         73.61875  2847.853392\n",
       "3               Angola         49.01875  1975.143045\n",
       "4  Antigua and Barbuda         75.05625  9759.305728"
      ]
     },
     "execution_count": 3,
     "metadata": {},
     "output_type": "execute_result"
    }
   ],
   "source": [
    "data.head()"
   ]
  },
  {
   "cell_type": "markdown",
   "id": "after-decade",
   "metadata": {},
   "source": [
    "So the three column names are 'Country', 'Life Ecpectancy' and 'GDP'."
   ]
  },
  {
   "cell_type": "code",
   "execution_count": 4,
   "id": "extended-pickup",
   "metadata": {},
   "outputs": [],
   "source": [
    "# Let’s isolate the column that contains the life expectancy and store it in a variable named life_expectancy.\n",
    "\n",
    "life_expectancy = data['Life Expectancy']"
   ]
  },
  {
   "cell_type": "markdown",
   "id": "loving-spelling",
   "metadata": {},
   "source": [
    "### Finding the Quantiles\n",
    "\n",
    "#### 1. Splitting the data by Life Expectancy"
   ]
  },
  {
   "cell_type": "code",
   "execution_count": 5,
   "id": "based-retro",
   "metadata": {},
   "outputs": [
    {
     "name": "stdout",
     "output_type": "stream",
     "text": [
      "[62.325     72.525     75.4421875]\n"
     ]
    }
   ],
   "source": [
    "# Let’s use the np.quantile() function to find the quartiles of life_expectancy. Store the result in a variable named \n",
    "# life_expectancy_quartiles.\n",
    "\n",
    "life_expectancy_quartiles = np.quantile(life_expectancy, [0.25, 0.50, 0.75])\n",
    "print(life_expectancy_quartiles)"
   ]
  },
  {
   "cell_type": "markdown",
   "id": "powered-nightmare",
   "metadata": {},
   "source": [
    "By looking at those three values we get a sense of the spread of the data. It seems like some of the data is fairly close together — a quarter of the data is between 72.5 years and 75.4 years.\n",
    "\n",
    "Let's plot a histogram to see the results."
   ]
  },
  {
   "cell_type": "code",
   "execution_count": 6,
   "id": "tutorial-spanking",
   "metadata": {},
   "outputs": [
    {
     "data": {
      "image/png": "[encoded data removed]",
      "text/plain": [
       "<Figure size 432x288 with 1 Axes>"
      ]
     },
     "metadata": {
      "needs_background": "light"
     },
     "output_type": "display_data"
    }
   ],
   "source": [
    "plt.hist(life_expectancy)\n",
    "plt.title('Quartiles of Life Expectancy')\n",
    "plt.show()"
   ]
  },
  {
   "cell_type": "markdown",
   "id": "dutch-fields",
   "metadata": {},
   "source": [
    "The narrowest quartile is between 72 and 75 years. We can see this represented in the histogram through the larger spike of data around 75."
   ]
  },
  {
   "cell_type": "markdown",
   "id": "sharp-outdoors",
   "metadata": {},
   "source": [
    "#### 2. Splitting the data by GDP"
   ]
  },
  {
   "cell_type": "code",
   "execution_count": 7,
   "id": "organizational-aviation",
   "metadata": {},
   "outputs": [],
   "source": [
    "# GDP is a mesaure of a country’s wealth. Let’s now use the GDP data to see if life expectancy is affected by this value.\n",
    "# Let’s split the data into two groups based on GDP. If we find the median GDP, we can create two datasets for “low GDP countries” and “high GDP countries.\n",
    "\n",
    "# To start, let’s isolate the GDP column and store it in a variable named gdp.\n",
    "\n",
    "gdp = data['GDP']\n"
   ]
  },
  {
   "cell_type": "code",
   "execution_count": 8,
   "id": "abroad-quantum",
   "metadata": {},
   "outputs": [],
   "source": [
    "# let's find the median gdp\n",
    "\n",
    "median_gdp = np.quantile(gdp, 0.5)"
   ]
  },
  {
   "cell_type": "code",
   "execution_count": 9,
   "id": "simplified-aquarium",
   "metadata": {},
   "outputs": [],
   "source": [
    "# Let’s now grab all of the rows from our original dataset that have a GDP less than or equal to the median and do the same for \n",
    "# all of the rows that have a GDP higher than the median.\n",
    "\n",
    "low_gdp = data[data['GDP'] <= median_gdp]\n",
    "high_gdp = data[data['GDP'] > median_gdp]\n"
   ]
  },
  {
   "cell_type": "code",
   "execution_count": 10,
   "id": "hollywood-london",
   "metadata": {},
   "outputs": [],
   "source": [
    "# Now that we’ve split the data based on the GDP, let’s see how the life expectancy of each group compares to each other by \n",
    "# finding the quartiles.\n",
    "\n",
    "high_gdp_quartiles = np.quantile(high_gdp['Life Expectancy'], [0.25, 0.50, 0.75])\n",
    "low_gdp_quartiles = np.quantile(low_gdp['Life Expectancy'], [0.25, 0.50, 0.75])"
   ]
  },
  {
   "cell_type": "code",
   "execution_count": 11,
   "id": "educational-hypothesis",
   "metadata": {},
   "outputs": [
    {
     "name": "stdout",
     "output_type": "stream",
     "text": [
      "Low gdp quartiles:\n",
      "[56.3375  64.34375 71.7375 ]\n",
      "High gdp quartiles:\n",
      "[72.965625 75.15625  80.521875]\n"
     ]
    }
   ],
   "source": [
    "print('Low gdp quartiles:')\n",
    "print(low_gdp_quartiles)\n",
    "print('High gdp quartiles:')\n",
    "print(high_gdp_quartiles)"
   ]
  },
  {
   "cell_type": "code",
   "execution_count": 12,
   "id": "editorial-pharmacy",
   "metadata": {},
   "outputs": [
    {
     "data": {
      "image/png": "[encoded data removed]",
      "text/plain": [
       "<Figure size 432x288 with 1 Axes>"
      ]
     },
     "metadata": {
      "needs_background": "light"
     },
     "output_type": "display_data"
    }
   ],
   "source": [
    "# let’s plot a histogram of each dataset to really compare them.\n",
    "\n",
    "plt.hist(high_gdp[\"Life Expectancy\"], alpha = 0.5, label = \"High GDP\")\n",
    "plt.hist(low_gdp[\"Life Expectancy\"], alpha = 0.5, label = \"Low GDP\")\n",
    "plt.title('High and Low GDP Quartiles')\n",
    "plt.legend()\n",
    "plt.show()"
   ]
  },
  {
   "cell_type": "markdown",
   "id": "fifty-christianity",
   "metadata": {},
   "source": [
    "### Conclusion:\n",
    "\n",
    "We can now truly see the impact GDP has on life expectancy.\n",
    "\n",
    "Let's consider a country that has a life expectancy of 70 years. If that country is in the top half of GDP countries,  it falls in the first quarter of that dataset, since, 70 is below the first quartile of the high GDP dataset.  \n",
    "\n",
    "But if that country is in the bottom half of GDP countries, it falls in the third quarter since, 70 is between the second and third quartile of the low GDP dataset."
   ]
  },
  {
   "cell_type": "code",
   "execution_count": null,
   "id": "unavailable-afghanistan",
   "metadata": {},
   "outputs": [],
   "source": []
  }
 ],
 "metadata": {
  "kernelspec": {
   "display_name": "Python 3",
   "language": "python",
   "name": "python3"
  },
  "language_info": {
   "codemirror_mode": {
    "name": "ipython",
    "version": 3
   },
   "file_extension": ".py",
   "mimetype": "text/x-python",
   "name": "python",
   "nbconvert_exporter": "python",
   "pygments_lexer": "ipython3",
   "version": "3.8.5"
  }
 },
 "nbformat": 4,
 "nbformat_minor": 5
}

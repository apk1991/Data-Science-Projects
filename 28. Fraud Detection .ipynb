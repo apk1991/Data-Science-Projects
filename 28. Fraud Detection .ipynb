{
 "cells": [
  {
   "cell_type": "markdown",
   "id": "matched-bread",
   "metadata": {},
   "source": [
    "DATA ACQUISITION\n",
    "## RPA Fraud Detection\n",
    "\n",
    "Reputable Product Agency (RPA) has started receiving complaints from their credit card processor about fraudulent transactions. Let's help the finance department identify potentially risky transactions before they finish processing.\n",
    "\n",
    "This dataset contains a single table, transaction_data.\n",
    "\n",
    "The schema of this table is available [here](https://content.codecademy.com/courses/sql-queries-fraud/transaction-data.png)."
   ]
  },
  {
   "cell_type": "markdown",
   "id": "surprising-minute",
   "metadata": {},
   "source": [
    "__First, let's connect our Jupyter Notebook to our database file__"
   ]
  },
  {
   "cell_type": "code",
   "execution_count": 1,
   "id": "durable-postcard",
   "metadata": {},
   "outputs": [],
   "source": [
    "%%capture\n",
    "%load_ext sql\n",
    "%sql sqlite:///transaction_data.db"
   ]
  },
  {
   "cell_type": "markdown",
   "id": "bright-serve",
   "metadata": {},
   "source": [
    "__1. Let's take a first look at the data to see what it looks like__"
   ]
  },
  {
   "cell_type": "code",
   "execution_count": 3,
   "id": "fleet-collective",
   "metadata": {},
   "outputs": [
    {
     "name": "stdout",
     "output_type": "stream",
     "text": [
      " * sqlite:///transaction_data.db\n",
      "Done.\n"
     ]
    },
    {
     "data": {
      "text/html": [
       "<table>\n",
       "    <thead>\n",
       "        <tr>\n",
       "            <th>index</th>\n",
       "            <th>id</th>\n",
       "            <th>full_name</th>\n",
       "            <th>email</th>\n",
       "            <th>zip</th>\n",
       "            <th>ip_address</th>\n",
       "        </tr>\n",
       "    </thead>\n",
       "    <tbody>\n",
       "        <tr>\n",
       "            <td>0</td>\n",
       "            <td>1</td>\n",
       "            <td>Menard Peniman</td>\n",
       "            <td>mpeniman0@yahoo.co.jp</td>\n",
       "            <td>92132.0</td>\n",
       "            <td>223.107.70.220</td>\n",
       "        </tr>\n",
       "        <tr>\n",
       "            <td>1</td>\n",
       "            <td>2</td>\n",
       "            <td>Paulita Boome</td>\n",
       "            <td>pboome1@over-blog.com</td>\n",
       "            <td>94154.0</td>\n",
       "            <td>164.183.91.223</td>\n",
       "        </tr>\n",
       "        <tr>\n",
       "            <td>2</td>\n",
       "            <td>3</td>\n",
       "            <td>Barnabe Unthank</td>\n",
       "            <td>bunthank2@blinklist.com</td>\n",
       "            <td>65110.0</td>\n",
       "            <td>167.248.251.58</td>\n",
       "        </tr>\n",
       "        <tr>\n",
       "            <td>3</td>\n",
       "            <td>4</td>\n",
       "            <td>Boigie Hughes</td>\n",
       "            <td>bhughes3@simplemachines.org</td>\n",
       "            <td>98104.0</td>\n",
       "            <td>219.28.158.36</td>\n",
       "        </tr>\n",
       "        <tr>\n",
       "            <td>4</td>\n",
       "            <td>5</td>\n",
       "            <td>Trudi Rawet</td>\n",
       "            <td>trawet4@multiply.com</td>\n",
       "            <td>91199.0</td>\n",
       "            <td>76.97.141.59</td>\n",
       "        </tr>\n",
       "        <tr>\n",
       "            <td>5</td>\n",
       "            <td>6</td>\n",
       "            <td>Elset Paviour</td>\n",
       "            <td>epaviour5@google.com</td>\n",
       "            <td>84105.0</td>\n",
       "            <td>93.210.178.222</td>\n",
       "        </tr>\n",
       "        <tr>\n",
       "            <td>6</td>\n",
       "            <td>7</td>\n",
       "            <td>Cammi Colthard</td>\n",
       "            <td>ccolthard6@newyorker.com</td>\n",
       "            <td>75049.0</td>\n",
       "            <td>126.17.241.252</td>\n",
       "        </tr>\n",
       "        <tr>\n",
       "            <td>7</td>\n",
       "            <td>8</td>\n",
       "            <td>Kristal Bleasdale</td>\n",
       "            <td>kbleasdale7@ca.gov</td>\n",
       "            <td>79977.0</td>\n",
       "            <td>192.94.201.227</td>\n",
       "        </tr>\n",
       "        <tr>\n",
       "            <td>8</td>\n",
       "            <td>9</td>\n",
       "            <td>Donovan Worsalls</td>\n",
       "            <td>dworsalls8@wikimedia.org</td>\n",
       "            <td>20078.0</td>\n",
       "            <td>101.219.105.228</td>\n",
       "        </tr>\n",
       "        <tr>\n",
       "            <td>9</td>\n",
       "            <td>10</td>\n",
       "            <td>Lynna Grindley</td>\n",
       "            <td>lgrindley9@studiopress.com</td>\n",
       "            <td>72204.0</td>\n",
       "            <td>149.164.116.199</td>\n",
       "        </tr>\n",
       "    </tbody>\n",
       "</table>"
      ],
      "text/plain": [
       "[(0, 1, 'Menard Peniman', 'mpeniman0@yahoo.co.jp', 92132.0, '223.107.70.220'),\n",
       " (1, 2, 'Paulita Boome', 'pboome1@over-blog.com', 94154.0, '164.183.91.223'),\n",
       " (2, 3, 'Barnabe Unthank', 'bunthank2@blinklist.com', 65110.0, '167.248.251.58'),\n",
       " (3, 4, 'Boigie Hughes', 'bhughes3@simplemachines.org', 98104.0, '219.28.158.36'),\n",
       " (4, 5, 'Trudi Rawet', 'trawet4@multiply.com', 91199.0, '76.97.141.59'),\n",
       " (5, 6, 'Elset Paviour', 'epaviour5@google.com', 84105.0, '93.210.178.222'),\n",
       " (6, 7, 'Cammi Colthard', 'ccolthard6@newyorker.com', 75049.0, '126.17.241.252'),\n",
       " (7, 8, 'Kristal Bleasdale', 'kbleasdale7@ca.gov', 79977.0, '192.94.201.227'),\n",
       " (8, 9, 'Donovan Worsalls', 'dworsalls8@wikimedia.org', 20078.0, '101.219.105.228'),\n",
       " (9, 10, 'Lynna Grindley', 'lgrindley9@studiopress.com', 72204.0, '149.164.116.199')]"
      ]
     },
     "execution_count": 3,
     "metadata": {},
     "output_type": "execute_result"
    }
   ],
   "source": [
    "%%sql\n",
    "SELECT * FROM transaction_data\n",
    " LIMIT 10;"
   ]
  },
  {
   "cell_type": "markdown",
   "id": "sensitive-august",
   "metadata": {},
   "source": [
    "The transaction_data table has the following column names:\n",
    "\n",
    "id, full_name, email, zip, ip_address"
   ]
  },
  {
   "cell_type": "markdown",
   "id": "antique-adelaide",
   "metadata": {},
   "source": [
    "__2.The finance department noted that some of the fraudulent transactions were recorded as coming from Smokey Bear’s zip code (20252).__\n",
    "\n",
    "__Let's find the full_names and emails of the transactions listing 20252 as the zip code.__"
   ]
  },
  {
   "cell_type": "code",
   "execution_count": 7,
   "id": "swiss-tomato",
   "metadata": {},
   "outputs": [
    {
     "name": "stdout",
     "output_type": "stream",
     "text": [
      "   sqlite:///chat.db\n",
      " * sqlite:///transaction_data.db\n",
      "Done.\n"
     ]
    },
    {
     "data": {
      "text/html": [
       "<table>\n",
       "    <thead>\n",
       "        <tr>\n",
       "            <th>full_name</th>\n",
       "            <th>email</th>\n",
       "            <th>zip</th>\n",
       "        </tr>\n",
       "    </thead>\n",
       "    <tbody>\n",
       "        <tr>\n",
       "            <td>Grantham Keat</td>\n",
       "            <td>gkeat2h@ucla.edu</td>\n",
       "            <td>20252.0</td>\n",
       "        </tr>\n",
       "    </tbody>\n",
       "</table>"
      ],
      "text/plain": [
       "[('Grantham Keat', 'gkeat2h@ucla.edu', 20252.0)]"
      ]
     },
     "execution_count": 7,
     "metadata": {},
     "output_type": "execute_result"
    }
   ],
   "source": [
    "%%sql\n",
    "\n",
    " SELECT full_name, email, zip FROM transaction_data\n",
    " WHERE zip = 20252;"
   ]
  },
  {
   "cell_type": "markdown",
   "id": "brazilian-title",
   "metadata": {},
   "source": [
    "There is one transaction using this zip code.\n",
    "\n",
    "__3. Finance has also noticed a number of pseudonyms associated with fraudulent transactions.\n",
    "The fraudsters thought it would be funny to use ‘Art Vandelay’ for their full name or add a ‘der’ for their middle name.__\n",
    "\n",
    "__Let's use a query to find the names and emails associated with these transactions.__"
   ]
  },
  {
   "cell_type": "code",
   "execution_count": 8,
   "id": "molecular-wealth",
   "metadata": {},
   "outputs": [
    {
     "name": "stdout",
     "output_type": "stream",
     "text": [
      "   sqlite:///chat.db\n",
      " * sqlite:///transaction_data.db\n",
      "Done.\n"
     ]
    },
    {
     "data": {
      "text/html": [
       "<table>\n",
       "    <thead>\n",
       "        <tr>\n",
       "            <th>index</th>\n",
       "            <th>id</th>\n",
       "            <th>full_name</th>\n",
       "            <th>email</th>\n",
       "            <th>zip</th>\n",
       "            <th>ip_address</th>\n",
       "        </tr>\n",
       "    </thead>\n",
       "    <tbody>\n",
       "        <tr>\n",
       "            <td>79</td>\n",
       "            <td>80</td>\n",
       "            <td>Sanders O&#x27;Fielly</td>\n",
       "            <td>sofielly27@nasa.gov</td>\n",
       "            <td>71151.0</td>\n",
       "            <td>155.37.189.182</td>\n",
       "        </tr>\n",
       "        <tr>\n",
       "            <td>93</td>\n",
       "            <td>94</td>\n",
       "            <td>Friederike Gormally</td>\n",
       "            <td>fgormally2l@illinois.edu</td>\n",
       "            <td>92668.0</td>\n",
       "            <td>9.42.48.50</td>\n",
       "        </tr>\n",
       "        <tr>\n",
       "            <td>130</td>\n",
       "            <td>131</td>\n",
       "            <td>Helyn Callender</td>\n",
       "            <td>hcallender3m@hugedomains.com</td>\n",
       "            <td>32835.0</td>\n",
       "            <td>174.134.213.0</td>\n",
       "        </tr>\n",
       "        <tr>\n",
       "            <td>170</td>\n",
       "            <td>171</td>\n",
       "            <td>Parrnell Van der Mark</td>\n",
       "            <td>pvan4q@craigslist.org</td>\n",
       "            <td>18105.0</td>\n",
       "            <td>223.237.39.115</td>\n",
       "        </tr>\n",
       "    </tbody>\n",
       "</table>"
      ],
      "text/plain": [
       "[(79, 80, \"Sanders O'Fielly\", 'sofielly27@nasa.gov', 71151.0, '155.37.189.182'),\n",
       " (93, 94, 'Friederike Gormally', 'fgormally2l@illinois.edu', 92668.0, '9.42.48.50'),\n",
       " (130, 131, 'Helyn Callender', 'hcallender3m@hugedomains.com', 32835.0, '174.134.213.0'),\n",
       " (170, 171, 'Parrnell Van der Mark', 'pvan4q@craigslist.org', 18105.0, '223.237.39.115')]"
      ]
     },
     "execution_count": 8,
     "metadata": {},
     "output_type": "execute_result"
    }
   ],
   "source": [
    "%%sql\n",
    "\n",
    " SELECT * FROM transaction_data\n",
    " WHERE full_name = 'Art Vandelay'\n",
    " OR full_name LIKE '%der%';"
   ]
  },
  {
   "cell_type": "markdown",
   "id": "violent-chemistry",
   "metadata": {},
   "source": [
    "There are four transactions with 'der' in their users names.\n",
    "\n",
    "__4. There are some irregularities in the IP addresses where transactions are originating from. For example, any IP address beginning with ‘10.’ is reserved for internal use. We shouldn’t see IP addresses like this accessing Reputable Company’s service.__\n",
    "\n",
    "__Let's find the ip_addresses and emails listed with these transactions.__"
   ]
  },
  {
   "cell_type": "code",
   "execution_count": 9,
   "id": "apparent-edition",
   "metadata": {},
   "outputs": [
    {
     "name": "stdout",
     "output_type": "stream",
     "text": [
      "   sqlite:///chat.db\n",
      " * sqlite:///transaction_data.db\n",
      "Done.\n"
     ]
    },
    {
     "data": {
      "text/html": [
       "<table>\n",
       "    <thead>\n",
       "        <tr>\n",
       "            <th>ip_address</th>\n",
       "            <th>email</th>\n",
       "        </tr>\n",
       "    </thead>\n",
       "    <tbody>\n",
       "        <tr>\n",
       "            <td>101.219.105.228</td>\n",
       "            <td>dworsalls8@wikimedia.org</td>\n",
       "        </tr>\n",
       "        <tr>\n",
       "            <td>105.167.22.78</td>\n",
       "            <td>emcwilliams1b@theguardian.com</td>\n",
       "        </tr>\n",
       "        <tr>\n",
       "            <td>103.179.68.140</td>\n",
       "            <td>bgrayham22@guardian.co.uk</td>\n",
       "        </tr>\n",
       "        <tr>\n",
       "            <td>103.95.255.156</td>\n",
       "            <td>lsweetenham2c@epa.gov</td>\n",
       "        </tr>\n",
       "        <tr>\n",
       "            <td>107.173.33.83</td>\n",
       "            <td>dgiorio4h@cocolog-nifty.com</td>\n",
       "        </tr>\n",
       "        <tr>\n",
       "            <td>102.46.225.121</td>\n",
       "            <td>amarlow4o@telegraph.co.uk</td>\n",
       "        </tr>\n",
       "    </tbody>\n",
       "</table>"
      ],
      "text/plain": [
       "[('101.219.105.228', 'dworsalls8@wikimedia.org'),\n",
       " ('105.167.22.78', 'emcwilliams1b@theguardian.com'),\n",
       " ('103.179.68.140', 'bgrayham22@guardian.co.uk'),\n",
       " ('103.95.255.156', 'lsweetenham2c@epa.gov'),\n",
       " ('107.173.33.83', 'dgiorio4h@cocolog-nifty.com'),\n",
       " ('102.46.225.121', 'amarlow4o@telegraph.co.uk')]"
      ]
     },
     "execution_count": 9,
     "metadata": {},
     "output_type": "execute_result"
    }
   ],
   "source": [
    "%%sql\n",
    "\n",
    " SELECT ip_address, email FROM transaction_data\n",
    " WHERE ip_address LIKE '10%';"
   ]
  },
  {
   "cell_type": "markdown",
   "id": "medium-sound",
   "metadata": {},
   "source": [
    "__5. Users are making fraudulent transactions using a temporary email address service. These services provide a short-lived email that can be verified and then self-destructs.__\n",
    "\n",
    "__Let's find the emails in transaction_data with ‘temp_email.com’ as a domain.__"
   ]
  },
  {
   "cell_type": "code",
   "execution_count": 10,
   "id": "reduced-python",
   "metadata": {},
   "outputs": [
    {
     "name": "stdout",
     "output_type": "stream",
     "text": [
      "   sqlite:///chat.db\n",
      " * sqlite:///transaction_data.db\n",
      "Done.\n"
     ]
    },
    {
     "data": {
      "text/html": [
       "<table>\n",
       "    <thead>\n",
       "        <tr>\n",
       "            <th>email</th>\n",
       "        </tr>\n",
       "    </thead>\n",
       "    <tbody>\n",
       "        <tr>\n",
       "            <td>obemwellw@temp_email.com</td>\n",
       "        </tr>\n",
       "    </tbody>\n",
       "</table>"
      ],
      "text/plain": [
       "[('obemwellw@temp_email.com',)]"
      ]
     },
     "execution_count": 10,
     "metadata": {},
     "output_type": "execute_result"
    }
   ],
   "source": [
    "%%sql\n",
    "\n",
    " SELECT email FROM transaction_data\n",
    " WHERE email like '%temp_email.com';"
   ]
  },
  {
   "cell_type": "markdown",
   "id": "blessed-capture",
   "metadata": {},
   "source": [
    "__6. \n",
    "The finance department is looking for a specific transaction. They know that the transaction occurred from an ip address starting with ‘120.’ and their full name starts with ‘John’.__\n",
    "\n",
    "__Let's try to find the transaction.__"
   ]
  },
  {
   "cell_type": "code",
   "execution_count": 12,
   "id": "lesser-shield",
   "metadata": {},
   "outputs": [
    {
     "name": "stdout",
     "output_type": "stream",
     "text": [
      "   sqlite:///chat.db\n",
      " * sqlite:///transaction_data.db\n",
      "Done.\n"
     ]
    },
    {
     "data": {
      "text/html": [
       "<table>\n",
       "    <thead>\n",
       "        <tr>\n",
       "            <th>index</th>\n",
       "            <th>id</th>\n",
       "            <th>full_name</th>\n",
       "            <th>email</th>\n",
       "            <th>zip</th>\n",
       "            <th>ip_address</th>\n",
       "        </tr>\n",
       "    </thead>\n",
       "    <tbody>\n",
       "        <tr>\n",
       "            <td>9</td>\n",
       "            <td>10</td>\n",
       "            <td>Lynna Grindley</td>\n",
       "            <td>lgrindley9@studiopress.com</td>\n",
       "            <td>72204.0</td>\n",
       "            <td>149.164.116.199</td>\n",
       "        </tr>\n",
       "    </tbody>\n",
       "</table>"
      ],
      "text/plain": [
       "[(9, 10, 'Lynna Grindley', 'lgrindley9@studiopress.com', 72204.0, '149.164.116.199')]"
      ]
     },
     "execution_count": 12,
     "metadata": {},
     "output_type": "execute_result"
    }
   ],
   "source": [
    "%%sql\n",
    "\n",
    " SELECT * FROM transaction_data\n",
    " WHERE ip_address LIKE '149%'\n",
    " AND full_name LIKE 'Lynna%';"
   ]
  },
  {
   "cell_type": "markdown",
   "id": "empirical-timing",
   "metadata": {},
   "source": [
    "__CONCLUSION:__\n",
    "\n",
    "In this project we helped the Reputable Product Agency to find saome of the transactions that seem to be fraud and we successfully found some!"
   ]
  }
 ],
 "metadata": {
  "kernelspec": {
   "display_name": "Python 3",
   "language": "python",
   "name": "python3"
  },
  "language_info": {
   "codemirror_mode": {
    "name": "ipython",
    "version": 3
   },
   "file_extension": ".py",
   "mimetype": "text/x-python",
   "name": "python",
   "nbconvert_exporter": "python",
   "pygments_lexer": "ipython3",
   "version": "3.8.5"
  }
 },
 "nbformat": 4,
 "nbformat_minor": 5
}

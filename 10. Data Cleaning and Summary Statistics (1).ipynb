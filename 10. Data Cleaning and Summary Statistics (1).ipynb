{
 "cells": [
  {
   "cell_type": "markdown",
   "id": "worth-payment",
   "metadata": {},
   "source": [
    "## Cleaning demographic census data to perform statistical calculations\n",
    "In this project,we will clean a dataframe, composed of simulated census data to represent demographics of a small community in the U.S. and do some statiscal calculations on the cleaned data.\n"
   ]
  },
  {
   "cell_type": "code",
   "execution_count": 1,
   "id": "statutory-runner",
   "metadata": {},
   "outputs": [],
   "source": [
    "# Let's start by importing necessary libraries\n",
    "import pandas as pd\n",
    "import numpy as np"
   ]
  },
  {
   "cell_type": "code",
   "execution_count": 3,
   "id": "brutal-inventory",
   "metadata": {},
   "outputs": [],
   "source": [
    "# let's load the data from our system.\n",
    "census = pd.read_csv(r\"C:\\Users\\amanp\\OneDrive\\Desktop\\census_data.csv\")\n"
   ]
  },
  {
   "cell_type": "code",
   "execution_count": 5,
   "id": "exciting-stretch",
   "metadata": {},
   "outputs": [
    {
     "data": {
      "text/html": [
       "<div>\n",
       "<style scoped>\n",
       "    .dataframe tbody tr th:only-of-type {\n",
       "        vertical-align: middle;\n",
       "    }\n",
       "\n",
       "    .dataframe tbody tr th {\n",
       "        vertical-align: top;\n",
       "    }\n",
       "\n",
       "    .dataframe thead th {\n",
       "        text-align: right;\n",
       "    }\n",
       "</style>\n",
       "<table border=\"1\" class=\"dataframe\">\n",
       "  <thead>\n",
       "    <tr style=\"text-align: right;\">\n",
       "      <th></th>\n",
       "      <th>Unnamed: 0</th>\n",
       "      <th>first_name</th>\n",
       "      <th>last_name</th>\n",
       "      <th>birth_year</th>\n",
       "      <th>voted</th>\n",
       "      <th>num_children</th>\n",
       "      <th>income_year</th>\n",
       "      <th>higher_tax</th>\n",
       "      <th>marital_status</th>\n",
       "    </tr>\n",
       "  </thead>\n",
       "  <tbody>\n",
       "    <tr>\n",
       "      <th>0</th>\n",
       "      <td>0</td>\n",
       "      <td>Denise</td>\n",
       "      <td>Ratke</td>\n",
       "      <td>2005</td>\n",
       "      <td>False</td>\n",
       "      <td>0</td>\n",
       "      <td>92129.41</td>\n",
       "      <td>disagree</td>\n",
       "      <td>single</td>\n",
       "    </tr>\n",
       "    <tr>\n",
       "      <th>1</th>\n",
       "      <td>1</td>\n",
       "      <td>Hali</td>\n",
       "      <td>Cummerata</td>\n",
       "      <td>1987</td>\n",
       "      <td>False</td>\n",
       "      <td>0</td>\n",
       "      <td>75649.17</td>\n",
       "      <td>neutral</td>\n",
       "      <td>divorced</td>\n",
       "    </tr>\n",
       "    <tr>\n",
       "      <th>2</th>\n",
       "      <td>2</td>\n",
       "      <td>Salomon</td>\n",
       "      <td>Orn</td>\n",
       "      <td>1992</td>\n",
       "      <td>True</td>\n",
       "      <td>2</td>\n",
       "      <td>166313.45</td>\n",
       "      <td>agree</td>\n",
       "      <td>single</td>\n",
       "    </tr>\n",
       "    <tr>\n",
       "      <th>3</th>\n",
       "      <td>3</td>\n",
       "      <td>Sarina</td>\n",
       "      <td>Schiller</td>\n",
       "      <td>1965</td>\n",
       "      <td>False</td>\n",
       "      <td>2</td>\n",
       "      <td>71704.81</td>\n",
       "      <td>strongly agree</td>\n",
       "      <td>married</td>\n",
       "    </tr>\n",
       "    <tr>\n",
       "      <th>4</th>\n",
       "      <td>4</td>\n",
       "      <td>Gust</td>\n",
       "      <td>Abernathy</td>\n",
       "      <td>1945</td>\n",
       "      <td>False</td>\n",
       "      <td>2</td>\n",
       "      <td>143316.08</td>\n",
       "      <td>agree</td>\n",
       "      <td>married</td>\n",
       "    </tr>\n",
       "  </tbody>\n",
       "</table>\n",
       "</div>"
      ],
      "text/plain": [
       "   Unnamed: 0 first_name  last_name birth_year  voted  num_children  \\\n",
       "0           0     Denise      Ratke       2005  False             0   \n",
       "1           1       Hali  Cummerata       1987  False             0   \n",
       "2           2    Salomon        Orn       1992   True             2   \n",
       "3           3     Sarina   Schiller       1965  False             2   \n",
       "4           4       Gust  Abernathy       1945  False             2   \n",
       "\n",
       "   income_year      higher_tax marital_status  \n",
       "0     92129.41        disagree         single  \n",
       "1     75649.17         neutral       divorced  \n",
       "2    166313.45           agree         single  \n",
       "3     71704.81  strongly agree        married  \n",
       "4    143316.08           agree        married  "
      ]
     },
     "execution_count": 5,
     "metadata": {},
     "output_type": "execute_result"
    }
   ],
   "source": [
    "# Let's review the dataframe description and values returned by .head() to assess the variable types of each of the variables. \n",
    "# This is an important step to understand what preprocessing will be necessary to work with the data.\n",
    "\n",
    "census.head()\n"
   ]
  },
  {
   "cell_type": "markdown",
   "id": "reverse-superior",
   "metadata": {},
   "source": [
    "So, the data contains the following columns:\n",
    "\n",
    "first_name: The respondents’ names are categories that do not contain an order or ranking.\n",
    "\n",
    "last_name: The respondents’ names are categories that do not contain an order or ranking.\n",
    "\n",
    "birth_year: The year of birth for a respondent is a numeric value that must be expressed in whole integers.\n",
    "\n",
    "voted: The voted variable contains only two mutually exclusive categories; True or False.\n",
    "\n",
    "num_children: The number of children a respondent has is a numeric value that must be expressed in whole integers.\n",
    "\n",
    "income_year: The average yearly income a respondent earns is a numeric value that can be expressed with decimal precision.\n",
    "\n",
    "higher_tax: The categories in higher_tax contain an inherent order relevant to degrees of agreement to the question posed.\n",
    "\n",
    "marital_status: The marital_status variable contains categories that do not have an inherent ranking or order."
   ]
  },
  {
   "cell_type": "code",
   "execution_count": 6,
   "id": "particular-senegal",
   "metadata": {},
   "outputs": [
    {
     "data": {
      "text/plain": [
       "Unnamed: 0          int64\n",
       "first_name         object\n",
       "last_name          object\n",
       "birth_year         object\n",
       "voted                bool\n",
       "num_children        int64\n",
       "income_year       float64\n",
       "higher_tax         object\n",
       "marital_status     object\n",
       "dtype: object"
      ]
     },
     "execution_count": 6,
     "metadata": {},
     "output_type": "execute_result"
    }
   ],
   "source": [
    "# Let's check the dtypes of all the columns\n",
    "\n",
    "census.dtypes\n"
   ]
  },
  {
   "cell_type": "code",
   "execution_count": 7,
   "id": "raised-punishment",
   "metadata": {},
   "outputs": [
    {
     "data": {
      "text/plain": [
       "array(['2005', '1987', '1992', '1965', '1945', '1951', '1963', '1949',\n",
       "       '1950', '1971', '2007', '1944', '1995', '1973', '1946', '1954',\n",
       "       '1994', '1989', '1947', '1993', '1976', '1984', 'missing', '1966',\n",
       "       '1941', '2000', '1953', '1956', '1960', '2001', '1980', '1955',\n",
       "       '1985', '1996', '1968', '1979', '2006', '1962', '1981', '1959',\n",
       "       '1977', '1978', '1983', '1957', '1961', '1982', '2002', '1998',\n",
       "       '1999', '1952', '1940', '1986', '1958'], dtype=object)"
      ]
     },
     "execution_count": 7,
     "metadata": {},
     "output_type": "execute_result"
    }
   ],
   "source": [
    "#  to know the average birth year of the respondents. We were able to see from .dtypes that birth_year has been assigned the\n",
    "# str datatype whereas it should be expressed in int. Let's first print the unique values of the variable using the .unique() \n",
    "# method.\n",
    "\n",
    "census.birth_year.unique()"
   ]
  },
  {
   "cell_type": "code",
   "execution_count": 8,
   "id": "going-territory",
   "metadata": {},
   "outputs": [],
   "source": [
    "# There appears to be a missing value in the birth_year column. Let's assume that with some research we have found that the \n",
    "# respondent’s birth year is 1967.\n",
    "# let's use the .replace() method to replace the missing value with 1967, so that the data type can be changed to int. Then \n",
    "# recheck the values in birth_year by calling the .unique() method and printing the results.\n",
    "\n",
    "census.birth_year = census.birth_year.replace(['missing'], 1967)"
   ]
  },
  {
   "cell_type": "code",
   "execution_count": 9,
   "id": "rural-ground",
   "metadata": {},
   "outputs": [
    {
     "name": "stdout",
     "output_type": "stream",
     "text": [
      "Unnamed: 0          int64\n",
      "first_name         object\n",
      "last_name          object\n",
      "birth_year          int32\n",
      "voted                bool\n",
      "num_children        int64\n",
      "income_year       float64\n",
      "higher_tax         object\n",
      "marital_status     object\n",
      "dtype: object\n"
     ]
    }
   ],
   "source": [
    "# Now, that we have adjusted the values in the birth_year variable, let's change the datatype from str to int and print the \n",
    "# datatypes of the census dataframe.\n",
    "\n",
    "census.birth_year = census.birth_year.astype(int)\n",
    "print(census.dtypes)"
   ]
  },
  {
   "cell_type": "code",
   "execution_count": 10,
   "id": "speaking-castle",
   "metadata": {},
   "outputs": [
    {
     "data": {
      "text/plain": [
       "1973.4"
      ]
     },
     "execution_count": 10,
     "metadata": {},
     "output_type": "execute_result"
    }
   ],
   "source": [
    "# Having assigned birth_year to the appropriate data type, print the average birth year of the respondents to the census.\n",
    "\n",
    "census.birth_year.mean()"
   ]
  },
  {
   "cell_type": "code",
   "execution_count": 11,
   "id": "intermediate-cliff",
   "metadata": {},
   "outputs": [
    {
     "name": "stdout",
     "output_type": "stream",
     "text": [
      "['disagree', 'neutral', 'agree', 'strongly agree', 'strongly disagree']\n",
      "Categories (5, object): ['strongly disagree' < 'disagree' < 'neutral' < 'agree' < 'strongly agree']\n"
     ]
    }
   ],
   "source": [
    "# We also  to set an order to the higher_tax variable so that: strongly disagree < disagree < neutral < agree < strongly agree.\n",
    "# Let's convert the higher_tax variable to the category data type with the appropriate order, then print the new order using\n",
    "# the .unique() method.\n",
    "\n",
    "census['higher_tax'] = pd.Categorical(census['higher_tax'], ['strongly disagree', 'disagree', 'neutral', 'agree', 'strongly agree'], ordered= True)\n",
    "print(census['higher_tax'].unique())"
   ]
  },
  {
   "cell_type": "code",
   "execution_count": 12,
   "id": "divine-acrobat",
   "metadata": {},
   "outputs": [
    {
     "name": "stdout",
     "output_type": "stream",
     "text": [
      "2.0\n"
     ]
    }
   ],
   "source": [
    "# We would also like to know the median sentiment of the respondents on the issue of higher taxes for the wealthy. Label encode \n",
    "# the higher_tax variable for the same and print the median.\n",
    "\n",
    "census['higher_tax'] = census['higher_tax'].cat.codes\n",
    "print(census['higher_tax'].median())"
   ]
  },
  {
   "cell_type": "code",
   "execution_count": 13,
   "id": "thick-continent",
   "metadata": {},
   "outputs": [
    {
     "data": {
      "text/html": [
       "<div>\n",
       "<style scoped>\n",
       "    .dataframe tbody tr th:only-of-type {\n",
       "        vertical-align: middle;\n",
       "    }\n",
       "\n",
       "    .dataframe tbody tr th {\n",
       "        vertical-align: top;\n",
       "    }\n",
       "\n",
       "    .dataframe thead th {\n",
       "        text-align: right;\n",
       "    }\n",
       "</style>\n",
       "<table border=\"1\" class=\"dataframe\">\n",
       "  <thead>\n",
       "    <tr style=\"text-align: right;\">\n",
       "      <th></th>\n",
       "      <th>Unnamed: 0</th>\n",
       "      <th>first_name</th>\n",
       "      <th>last_name</th>\n",
       "      <th>birth_year</th>\n",
       "      <th>voted</th>\n",
       "      <th>num_children</th>\n",
       "      <th>income_year</th>\n",
       "      <th>higher_tax</th>\n",
       "      <th>marital_status_divorced</th>\n",
       "      <th>marital_status_married</th>\n",
       "      <th>marital_status_single</th>\n",
       "      <th>marital_status_widowed</th>\n",
       "    </tr>\n",
       "  </thead>\n",
       "  <tbody>\n",
       "    <tr>\n",
       "      <th>0</th>\n",
       "      <td>0</td>\n",
       "      <td>Denise</td>\n",
       "      <td>Ratke</td>\n",
       "      <td>2005</td>\n",
       "      <td>False</td>\n",
       "      <td>0</td>\n",
       "      <td>92129.41</td>\n",
       "      <td>1</td>\n",
       "      <td>0</td>\n",
       "      <td>0</td>\n",
       "      <td>1</td>\n",
       "      <td>0</td>\n",
       "    </tr>\n",
       "    <tr>\n",
       "      <th>1</th>\n",
       "      <td>1</td>\n",
       "      <td>Hali</td>\n",
       "      <td>Cummerata</td>\n",
       "      <td>1987</td>\n",
       "      <td>False</td>\n",
       "      <td>0</td>\n",
       "      <td>75649.17</td>\n",
       "      <td>2</td>\n",
       "      <td>1</td>\n",
       "      <td>0</td>\n",
       "      <td>0</td>\n",
       "      <td>0</td>\n",
       "    </tr>\n",
       "    <tr>\n",
       "      <th>2</th>\n",
       "      <td>2</td>\n",
       "      <td>Salomon</td>\n",
       "      <td>Orn</td>\n",
       "      <td>1992</td>\n",
       "      <td>True</td>\n",
       "      <td>2</td>\n",
       "      <td>166313.45</td>\n",
       "      <td>3</td>\n",
       "      <td>0</td>\n",
       "      <td>0</td>\n",
       "      <td>1</td>\n",
       "      <td>0</td>\n",
       "    </tr>\n",
       "    <tr>\n",
       "      <th>3</th>\n",
       "      <td>3</td>\n",
       "      <td>Sarina</td>\n",
       "      <td>Schiller</td>\n",
       "      <td>1965</td>\n",
       "      <td>False</td>\n",
       "      <td>2</td>\n",
       "      <td>71704.81</td>\n",
       "      <td>4</td>\n",
       "      <td>0</td>\n",
       "      <td>1</td>\n",
       "      <td>0</td>\n",
       "      <td>0</td>\n",
       "    </tr>\n",
       "    <tr>\n",
       "      <th>4</th>\n",
       "      <td>4</td>\n",
       "      <td>Gust</td>\n",
       "      <td>Abernathy</td>\n",
       "      <td>1945</td>\n",
       "      <td>False</td>\n",
       "      <td>2</td>\n",
       "      <td>143316.08</td>\n",
       "      <td>3</td>\n",
       "      <td>0</td>\n",
       "      <td>1</td>\n",
       "      <td>0</td>\n",
       "      <td>0</td>\n",
       "    </tr>\n",
       "  </tbody>\n",
       "</table>\n",
       "</div>"
      ],
      "text/plain": [
       "   Unnamed: 0 first_name  last_name  birth_year  voted  num_children  \\\n",
       "0           0     Denise      Ratke        2005  False             0   \n",
       "1           1       Hali  Cummerata        1987  False             0   \n",
       "2           2    Salomon        Orn        1992   True             2   \n",
       "3           3     Sarina   Schiller        1965  False             2   \n",
       "4           4       Gust  Abernathy        1945  False             2   \n",
       "\n",
       "   income_year  higher_tax  marital_status_divorced  marital_status_married  \\\n",
       "0     92129.41           1                        0                       0   \n",
       "1     75649.17           2                        1                       0   \n",
       "2    166313.45           3                        0                       0   \n",
       "3     71704.81           4                        0                       1   \n",
       "4    143316.08           3                        0                       1   \n",
       "\n",
       "   marital_status_single  marital_status_widowed  \n",
       "0                      1                       0  \n",
       "1                      0                       0  \n",
       "2                      1                       0  \n",
       "3                      0                       0  \n",
       "4                      0                       0  "
      ]
     },
     "execution_count": 13,
     "metadata": {},
     "output_type": "execute_result"
    }
   ],
   "source": [
    "# To perform machine learning models later on for this data, let’s One-Hot Encode marital_status tocreate binary variables\n",
    "# of each category. \n",
    "\n",
    "census = pd.get_dummies(census, columns=['marital_status'])\n",
    "census.head()"
   ]
  },
  {
   "cell_type": "markdown",
   "id": "informed-solid",
   "metadata": {},
   "source": [
    "#### Conclusion and next steps:\n",
    "In this project, we have cleaned the census data of a small community in the US(including label encoding and One-Hot encoding) and performed some statistical calculations like calculating the mean and median of various columns. We did the following jobs:\n",
    "1. calculating the mean of birth_year(by first converting it to appropriate datatype and filling the missing values).\n",
    "2. setting an order to the higher_tax variable (by converting it to categorical datatype).\n",
    "3. label encoding the higher_Tax variable to calculate the median.\n",
    "4. One-Hot encoding the marital_status to perform machine learning models.\n",
    "\n",
    "Next, we can also do the following:\n",
    "1. Create a new variable called marital_codes by Label Encoding the marital_status variable. This could help the Census team  use machine learning to predict if a respondent thinks the wealthy should pay higher taxes based on their marital status.\n",
    "\n",
    "2. Create a new variable called age_group, which groups respondents based on their birth year. The groups should be in five-year increments, e.g., 25-30, 31-35, etc. Then label encode the age_group variable to assist the Census team in the event they would like to use machine learning to predict if a respondent thinks the wealthy should pay higher taxes based on their age group.\n",
    "etc.\n"
   ]
  },
  {
   "cell_type": "code",
   "execution_count": null,
   "id": "nasty-swedish",
   "metadata": {},
   "outputs": [],
   "source": []
  }
 ],
 "metadata": {
  "kernelspec": {
   "display_name": "Python 3",
   "language": "python",
   "name": "python3"
  },
  "language_info": {
   "codemirror_mode": {
    "name": "ipython",
    "version": 3
   },
   "file_extension": ".py",
   "mimetype": "text/x-python",
   "name": "python",
   "nbconvert_exporter": "python",
   "pygments_lexer": "ipython3",
   "version": "3.8.5"
  }
 },
 "nbformat": 4,
 "nbformat_minor": 5
}

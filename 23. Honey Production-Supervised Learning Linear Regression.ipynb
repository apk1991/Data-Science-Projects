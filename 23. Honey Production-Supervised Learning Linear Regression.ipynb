{
 "cells": [
  {
   "cell_type": "markdown",
   "id": "ahead-stamp",
   "metadata": {},
   "source": [
    "### Predicting decline in the Honey Bee Production\n",
    "\n",
    "The honeybees are in a precarious state right now. They are declining in abundance in many parts of the world due to various reasons.\n",
    "\n",
    "In this project, we will investigate this decline and how the trends of the past predict the future for the honeybees. Tha dataset can be found on Kaggle.\n",
    "We will use Supervised Learning: Linear Regression for the same."
   ]
  },
  {
   "cell_type": "code",
   "execution_count": 1,
   "id": "decreased-infection",
   "metadata": {},
   "outputs": [],
   "source": [
    "# The import the libraries needed for this project first.\n",
    "import pandas as pd\n",
    "import matplotlib.pyplot as plt\n",
    "import numpy as np\n",
    "from sklearn import linear_model\n"
   ]
  },
  {
   "cell_type": "code",
   "execution_count": 3,
   "id": "labeled-medicare",
   "metadata": {},
   "outputs": [
    {
     "data": {
      "text/html": [
       "<div>\n",
       "<style scoped>\n",
       "    .dataframe tbody tr th:only-of-type {\n",
       "        vertical-align: middle;\n",
       "    }\n",
       "\n",
       "    .dataframe tbody tr th {\n",
       "        vertical-align: top;\n",
       "    }\n",
       "\n",
       "    .dataframe thead th {\n",
       "        text-align: right;\n",
       "    }\n",
       "</style>\n",
       "<table border=\"1\" class=\"dataframe\">\n",
       "  <thead>\n",
       "    <tr style=\"text-align: right;\">\n",
       "      <th></th>\n",
       "      <th>Unnamed: 0</th>\n",
       "      <th>state</th>\n",
       "      <th>numcol</th>\n",
       "      <th>yieldpercol</th>\n",
       "      <th>totalprod</th>\n",
       "      <th>stocks</th>\n",
       "      <th>priceperlb</th>\n",
       "      <th>prodvalue</th>\n",
       "      <th>year</th>\n",
       "    </tr>\n",
       "  </thead>\n",
       "  <tbody>\n",
       "    <tr>\n",
       "      <th>0</th>\n",
       "      <td>0</td>\n",
       "      <td>AL</td>\n",
       "      <td>16000</td>\n",
       "      <td>71</td>\n",
       "      <td>1136000</td>\n",
       "      <td>159000</td>\n",
       "      <td>0.72</td>\n",
       "      <td>818000</td>\n",
       "      <td>1998</td>\n",
       "    </tr>\n",
       "    <tr>\n",
       "      <th>1</th>\n",
       "      <td>1</td>\n",
       "      <td>AZ</td>\n",
       "      <td>55000</td>\n",
       "      <td>60</td>\n",
       "      <td>3300000</td>\n",
       "      <td>1485000</td>\n",
       "      <td>0.64</td>\n",
       "      <td>2112000</td>\n",
       "      <td>1998</td>\n",
       "    </tr>\n",
       "    <tr>\n",
       "      <th>2</th>\n",
       "      <td>2</td>\n",
       "      <td>AR</td>\n",
       "      <td>53000</td>\n",
       "      <td>65</td>\n",
       "      <td>3445000</td>\n",
       "      <td>1688000</td>\n",
       "      <td>0.59</td>\n",
       "      <td>2033000</td>\n",
       "      <td>1998</td>\n",
       "    </tr>\n",
       "    <tr>\n",
       "      <th>3</th>\n",
       "      <td>3</td>\n",
       "      <td>CA</td>\n",
       "      <td>450000</td>\n",
       "      <td>83</td>\n",
       "      <td>37350000</td>\n",
       "      <td>12326000</td>\n",
       "      <td>0.62</td>\n",
       "      <td>23157000</td>\n",
       "      <td>1998</td>\n",
       "    </tr>\n",
       "    <tr>\n",
       "      <th>4</th>\n",
       "      <td>4</td>\n",
       "      <td>CO</td>\n",
       "      <td>27000</td>\n",
       "      <td>72</td>\n",
       "      <td>1944000</td>\n",
       "      <td>1594000</td>\n",
       "      <td>0.70</td>\n",
       "      <td>1361000</td>\n",
       "      <td>1998</td>\n",
       "    </tr>\n",
       "  </tbody>\n",
       "</table>\n",
       "</div>"
      ],
      "text/plain": [
       "   Unnamed: 0 state  numcol  yieldpercol  totalprod    stocks  priceperlb  \\\n",
       "0           0    AL   16000           71    1136000    159000        0.72   \n",
       "1           1    AZ   55000           60    3300000   1485000        0.64   \n",
       "2           2    AR   53000           65    3445000   1688000        0.59   \n",
       "3           3    CA  450000           83   37350000  12326000        0.62   \n",
       "4           4    CO   27000           72    1944000   1594000        0.70   \n",
       "\n",
       "   prodvalue  year  \n",
       "0     818000  1998  \n",
       "1    2112000  1998  \n",
       "2    2033000  1998  \n",
       "3   23157000  1998  \n",
       "4    1361000  1998  "
      ]
     },
     "execution_count": 3,
     "metadata": {},
     "output_type": "execute_result"
    }
   ],
   "source": [
    "# Loading the dataset and investigating it.\n",
    "\n",
    "df = pd.read_csv(r\"C:\\Users\\amanp\\OneDrive\\Desktop\\honeyproduction.csv\")\n",
    "df.head()"
   ]
  },
  {
   "cell_type": "markdown",
   "id": "expired-blues",
   "metadata": {},
   "source": [
    "For now, we care about the total production of honey per year. Let's use the .groupby() method provided by pandas to get the mean of totalprod per year and store this in a variable called prod_per_year"
   ]
  },
  {
   "cell_type": "code",
   "execution_count": 4,
   "id": "based-insurance",
   "metadata": {},
   "outputs": [],
   "source": [
    "\n",
    "prod_per_year = df.groupby('year').totalprod.mean().reset_index() # This will group the year column.\n"
   ]
  },
  {
   "cell_type": "code",
   "execution_count": 5,
   "id": "unavailable-final",
   "metadata": {},
   "outputs": [],
   "source": [
    "# Let's create a variable called X that is the column of years in this prod_per_year DataFrame.\n",
    "# After creating X, we will need to reshape it to get it into the right format.\n",
    "\n",
    "X= prod_per_year['year']\n",
    "X = X.values.reshape(-1,1)\n",
    "\n",
    "# Let's also create a variable called y that is the totalprod column in the prod_per_year dataset.\n",
    "\n",
    "y = prod_per_year['totalprod']\n"
   ]
  },
  {
   "cell_type": "code",
   "execution_count": 7,
   "id": "limiting-poison",
   "metadata": {},
   "outputs": [
    {
     "data": {
      "image/png": "[encoded data removed]",
      "text/plain": [
       "<Figure size 432x288 with 1 Axes>"
      ]
     },
     "metadata": {
      "needs_background": "light"
     },
     "output_type": "display_data"
    }
   ],
   "source": [
    "# Using plt.scatter(), let's plot y vs X as a scatterplot.\n",
    "\n",
    "plt.scatter(X, y)\n",
    "plt.xlabel('Years')\n",
    "plt.ylabel('Total HoneyBee Production')\n",
    "plt.title('HoneyBee production per Year')\n",
    "plt.show()"
   ]
  },
  {
   "cell_type": "markdown",
   "id": "sustained-musical",
   "metadata": {},
   "source": [
    "### Creating and Fitting a Linear Regression Model"
   ]
  },
  {
   "cell_type": "code",
   "execution_count": 9,
   "id": "crucial-antenna",
   "metadata": {},
   "outputs": [
    {
     "name": "stdout",
     "output_type": "stream",
     "text": [
      "-88303.18915238194\n",
      "181208083.1073298\n"
     ]
    }
   ],
   "source": [
    "\n",
    "# We will now create a linear regression model from scikit-learn and call it regr.\n",
    "# We will use the LinearRegression() constructor from the linear_model module to do this.\n",
    "\n",
    "from sklearn.linear_model import LinearRegression\n",
    "regr = LinearRegression()\n",
    "\n",
    "# Now, let's fit the model to the data by using .fit()\n",
    "\n",
    "regr.fit(X,y)\n",
    "\n",
    "# After fitting the model, let's now print out the slope of the line (stored in a list called regr.coef_) and the intercept of\n",
    "# the line (regr.intercept_).\n",
    "\n",
    "print(regr.coef_[0])\n",
    "print(regr.intercept_)\n",
    "\n",
    "\n"
   ]
  },
  {
   "cell_type": "code",
   "execution_count": 10,
   "id": "super-sword",
   "metadata": {},
   "outputs": [],
   "source": [
    "# Let's create a list called y_predict that is the predictions your regr model would make on the X data\n",
    "\n",
    "\n",
    "y_predict = regr.predict(X)"
   ]
  },
  {
   "cell_type": "code",
   "execution_count": 11,
   "id": "floating-samba",
   "metadata": {},
   "outputs": [
    {
     "data": {
      "image/png": "[encoded data removed]",
      "text/plain": [
       "<Figure size 432x288 with 1 Axes>"
      ]
     },
     "metadata": {
      "needs_background": "light"
     },
     "output_type": "display_data"
    }
   ],
   "source": [
    "# Let's plot y_predict vs X as a line, on top of our scatterplot using plt.plot()\n",
    "\n",
    "\n",
    "plt.scatter(X, y)\n",
    "plt.plot(X, y_predict)\n",
    "plt.xlabel('Year')\n",
    "plt.ylabel('honeybee production')\n",
    "plt.title('honeybee production per year with regression line')\n",
    "plt.show()"
   ]
  },
  {
   "cell_type": "markdown",
   "id": "dying-immune",
   "metadata": {},
   "source": [
    "The above graph clearly indicates the continuous decline in the honey bee production every year."
   ]
  },
  {
   "cell_type": "markdown",
   "id": "consistent-muslim",
   "metadata": {},
   "source": [
    "### Predict the Honey decline\n",
    "\n",
    "\n",
    "So, it looks like the production of honey has been in decline, according to this linear model. Let’s predict what the year 2050 may look like in terms of honey production."
   ]
  },
  {
   "cell_type": "code",
   "execution_count": 12,
   "id": "worth-bosnia",
   "metadata": {},
   "outputs": [],
   "source": [
    "# Our known dataset stops at the year 2013, so let’s create a NumPy array called X_future that is the range from 2013 to 2050\n",
    "# and eshape it.\n",
    "\n",
    "X_future = np.array(range(2013, 2051))\n",
    "X_future = X_future.reshape(-1,1) # think of reshape() as rotating this array. Rather than one big row of numbers, X_future is \n",
    "# now a big column of numbers — there’s one number in each row.\n",
    "\n",
    "# Now create a list called future_predict that is the y-values that your regr model would predict for the values of X_future\n",
    "\n",
    "future_predict = regr.predict(X_future)\n"
   ]
  },
  {
   "cell_type": "code",
   "execution_count": 13,
   "id": "extraordinary-advancement",
   "metadata": {},
   "outputs": [
    {
     "data": {
      "image/png": "[encoded data removed]",
      "text/plain": [
       "<Figure size 432x288 with 1 Axes>"
      ]
     },
     "metadata": {
      "needs_background": "light"
     },
     "output_type": "display_data"
    }
   ],
   "source": [
    "# Finally, let's Plot future_predict vs X_future.\n",
    "\n",
    "plt.scatter(X, y)\n",
    "plt.plot(X, y_predict)\n",
    "plt.plot(X_future, future_predict)\n",
    "plt.show()"
   ]
  },
  {
   "cell_type": "markdown",
   "id": "elegant-peace",
   "metadata": {},
   "source": [
    "### Conclusion:\n",
    "The graph depicts the alarming decrease in the honey bee production by the year 2050. This prediction shows the urgent need of focussing into this matter and finding different ways to increase the honey bee production. "
   ]
  },
  {
   "cell_type": "code",
   "execution_count": null,
   "id": "important-sword",
   "metadata": {},
   "outputs": [],
   "source": []
  }
 ],
 "metadata": {
  "kernelspec": {
   "display_name": "Python 3",
   "language": "python",
   "name": "python3"
  },
  "language_info": {
   "codemirror_mode": {
    "name": "ipython",
    "version": 3
   },
   "file_extension": ".py",
   "mimetype": "text/x-python",
   "name": "python",
   "nbconvert_exporter": "python",
   "pygments_lexer": "ipython3",
   "version": "3.8.5"
  }
 },
 "nbformat": 4,
 "nbformat_minor": 5
}

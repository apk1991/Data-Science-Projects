{
 "cells": [
  {
   "cell_type": "markdown",
   "id": "deluxe-weekly",
   "metadata": {},
   "source": [
    "## Analyzing Company's Data to check for financial health\n",
    "\n",
    "In this project, we will work as a data analyst for a tech startup that is looking to improve its operations after a global pandemic has taken the world by storm.\n",
    "\n",
    "We will do the data analysis on the past six months of the company’s financial data, which has been loaded in the variable financial_data\n",
    "\n",
    "\n",
    "We will apply data transformation techniques to make better sense of the company’s data and help answer important questions such as:\n",
    "\n",
    "Is the company in good financial health?\n",
    "Does the company need to let go of any employees?\n",
    "Should the company allow employees to work from home permanently?"
   ]
  },
  {
   "cell_type": "code",
   "execution_count": 1,
   "id": "filled-stopping",
   "metadata": {},
   "outputs": [],
   "source": [
    "# let's import the libraries first.\n",
    "from sklearn import preprocessing\n",
    "import matplotlib.pyplot as plt\n",
    "import pandas as pd\n",
    "import seaborn as sns\n",
    "import numpy as np\n",
    "import warnings\n",
    "warnings.filterwarnings(\"ignore\")\n"
   ]
  },
  {
   "cell_type": "code",
   "execution_count": 2,
   "id": "hollywood-magnet",
   "metadata": {},
   "outputs": [],
   "source": [
    "#let's load the data and examine the first few rows of the data.\n",
    "financial_data = pd.read_csv(r\"C:\\Users\\amanp\\OneDrive\\Desktop\\financial_data.csv\")"
   ]
  },
  {
   "cell_type": "code",
   "execution_count": 3,
   "id": "basic-modem",
   "metadata": {},
   "outputs": [
    {
     "data": {
      "text/html": [
       "<div>\n",
       "<style scoped>\n",
       "    .dataframe tbody tr th:only-of-type {\n",
       "        vertical-align: middle;\n",
       "    }\n",
       "\n",
       "    .dataframe tbody tr th {\n",
       "        vertical-align: top;\n",
       "    }\n",
       "\n",
       "    .dataframe thead th {\n",
       "        text-align: right;\n",
       "    }\n",
       "</style>\n",
       "<table border=\"1\" class=\"dataframe\">\n",
       "  <thead>\n",
       "    <tr style=\"text-align: right;\">\n",
       "      <th></th>\n",
       "      <th>Month</th>\n",
       "      <th>Revenue</th>\n",
       "      <th>Expenses</th>\n",
       "    </tr>\n",
       "  </thead>\n",
       "  <tbody>\n",
       "    <tr>\n",
       "      <th>0</th>\n",
       "      <td>1</td>\n",
       "      <td>1420000</td>\n",
       "      <td>510000</td>\n",
       "    </tr>\n",
       "    <tr>\n",
       "      <th>1</th>\n",
       "      <td>2</td>\n",
       "      <td>1200000</td>\n",
       "      <td>532000</td>\n",
       "    </tr>\n",
       "    <tr>\n",
       "      <th>2</th>\n",
       "      <td>3</td>\n",
       "      <td>1050000</td>\n",
       "      <td>551000</td>\n",
       "    </tr>\n",
       "    <tr>\n",
       "      <th>3</th>\n",
       "      <td>4</td>\n",
       "      <td>920000</td>\n",
       "      <td>612000</td>\n",
       "    </tr>\n",
       "    <tr>\n",
       "      <th>4</th>\n",
       "      <td>5</td>\n",
       "      <td>807000</td>\n",
       "      <td>628000</td>\n",
       "    </tr>\n",
       "  </tbody>\n",
       "</table>\n",
       "</div>"
      ],
      "text/plain": [
       "   Month  Revenue  Expenses\n",
       "0      1  1420000    510000\n",
       "1      2  1200000    532000\n",
       "2      3  1050000    551000\n",
       "3      4   920000    612000\n",
       "4      5   807000    628000"
      ]
     },
     "execution_count": 3,
     "metadata": {},
     "output_type": "execute_result"
    }
   ],
   "source": [
    "financial_data.head()"
   ]
  },
  {
   "cell_type": "markdown",
   "id": "musical-fortune",
   "metadata": {},
   "source": [
    "We see that financial_data has three columns – Month, Revenue, and Expenses.\n",
    "\n",
    "Let's store each column in three separate variables called month, revenue, and expenses."
   ]
  },
  {
   "cell_type": "code",
   "execution_count": 4,
   "id": "opponent-elder",
   "metadata": {},
   "outputs": [],
   "source": [
    "month = financial_data['Month']\n",
    "\n",
    "revenue= financial_data['Revenue']\n",
    "\n",
    "expenses = financial_data['Expenses']"
   ]
  },
  {
   "cell_type": "markdown",
   "id": "alike-liberia",
   "metadata": {},
   "source": [
    "Let's create a plot of revenue over the past six months."
   ]
  },
  {
   "cell_type": "code",
   "execution_count": 5,
   "id": "better-noise",
   "metadata": {},
   "outputs": [
    {
     "data": {
      "image/png": "[encoded data removed]",
      "text/plain": [
       "<Figure size 432x288 with 1 Axes>"
      ]
     },
     "metadata": {
      "needs_background": "light"
     },
     "output_type": "display_data"
    }
   ],
   "source": [
    "plt.plot(month,revenue)\n",
    "plt.xlabel('Month')\n",
    "plt.ylabel('Amount ($)')\n",
    "plt.title('Revenue')\n",
    "plt.show()"
   ]
  },
  {
   "cell_type": "markdown",
   "id": "korean-expansion",
   "metadata": {},
   "source": [
    "Let's create a another plot of monthly expenses over the past 6 months."
   ]
  },
  {
   "cell_type": "code",
   "execution_count": 6,
   "id": "present-spending",
   "metadata": {},
   "outputs": [
    {
     "data": {
      "image/png": "[encoded data removed]",
      "text/plain": [
       "<Figure size 432x288 with 1 Axes>"
      ]
     },
     "metadata": {
      "needs_background": "light"
     },
     "output_type": "display_data"
    }
   ],
   "source": [
    "plt.plot(month,expenses)\n",
    "plt.xlabel('Month')\n",
    "plt.ylabel('Amount ($)')\n",
    "plt.title('Expenses')\n",
    "plt.show()"
   ]
  },
  {
   "cell_type": "markdown",
   "id": "pacific-watch",
   "metadata": {},
   "source": [
    "From the above two plots, revenue seems to be quickly decreasing while expenses are increasing. If the current trend continues, expenses will soon surpass revenues, putting the company at risk.\n",
    "\n",
    "This is an alarming situation and expenses must be cut immediately.\n",
    "\n"
   ]
  },
  {
   "cell_type": "code",
   "execution_count": 7,
   "id": "posted-smooth",
   "metadata": {},
   "outputs": [],
   "source": [
    "# Let's load another file to analyse the expenses.\n",
    "\n",
    "expense_overview = pd.read_csv(r\"C:\\Users\\amanp\\OneDrive\\Desktop\\expenses.csv\")"
   ]
  },
  {
   "cell_type": "code",
   "execution_count": 8,
   "id": "ready-picnic",
   "metadata": {},
   "outputs": [
    {
     "data": {
      "text/html": [
       "<div>\n",
       "<style scoped>\n",
       "    .dataframe tbody tr th:only-of-type {\n",
       "        vertical-align: middle;\n",
       "    }\n",
       "\n",
       "    .dataframe tbody tr th {\n",
       "        vertical-align: top;\n",
       "    }\n",
       "\n",
       "    .dataframe thead th {\n",
       "        text-align: right;\n",
       "    }\n",
       "</style>\n",
       "<table border=\"1\" class=\"dataframe\">\n",
       "  <thead>\n",
       "    <tr style=\"text-align: right;\">\n",
       "      <th></th>\n",
       "      <th>Expense</th>\n",
       "      <th>Proportion</th>\n",
       "    </tr>\n",
       "  </thead>\n",
       "  <tbody>\n",
       "    <tr>\n",
       "      <th>0</th>\n",
       "      <td>Salaries</td>\n",
       "      <td>0.62</td>\n",
       "    </tr>\n",
       "    <tr>\n",
       "      <th>1</th>\n",
       "      <td>Advertising</td>\n",
       "      <td>0.15</td>\n",
       "    </tr>\n",
       "    <tr>\n",
       "      <th>2</th>\n",
       "      <td>Office Rent</td>\n",
       "      <td>0.15</td>\n",
       "    </tr>\n",
       "    <tr>\n",
       "      <th>3</th>\n",
       "      <td>Equipment</td>\n",
       "      <td>0.03</td>\n",
       "    </tr>\n",
       "    <tr>\n",
       "      <th>4</th>\n",
       "      <td>Utilities</td>\n",
       "      <td>0.03</td>\n",
       "    </tr>\n",
       "    <tr>\n",
       "      <th>5</th>\n",
       "      <td>Supples</td>\n",
       "      <td>0.01</td>\n",
       "    </tr>\n",
       "    <tr>\n",
       "      <th>6</th>\n",
       "      <td>Food</td>\n",
       "      <td>0.01</td>\n",
       "    </tr>\n",
       "  </tbody>\n",
       "</table>\n",
       "</div>"
      ],
      "text/plain": [
       "       Expense  Proportion\n",
       "0     Salaries        0.62\n",
       "1  Advertising        0.15\n",
       "2  Office Rent        0.15\n",
       "3    Equipment        0.03\n",
       "4    Utilities        0.03\n",
       "5      Supples        0.01\n",
       "6         Food        0.01"
      ]
     },
     "execution_count": 8,
     "metadata": {},
     "output_type": "execute_result"
    }
   ],
   "source": [
    "expense_overview"
   ]
  },
  {
   "cell_type": "markdown",
   "id": "strong-fourth",
   "metadata": {},
   "source": [
    "There are two columns:\n",
    "\n",
    "Expense: indicates the expense category\n",
    "\n",
    "Proportion: indicates how much of the overall expenses a specific category takes up\n",
    "\n",
    "Let's store the Expense column in a variable called expense_categories and the Proportion column in a variable called proportions."
   ]
  },
  {
   "cell_type": "code",
   "execution_count": 9,
   "id": "every-legislature",
   "metadata": {},
   "outputs": [],
   "source": [
    "expense_categories = expense_overview['Expense']\n",
    "\n",
    "proportions = expense_overview['Proportion']"
   ]
  },
  {
   "cell_type": "markdown",
   "id": "explicit-boards",
   "metadata": {},
   "source": [
    "Now let's create a pie chart of the different expense categories, using the plt.pie() method, passing in two arguments:\n",
    "\n",
    "proportions\n",
    "labels = expense_categories"
   ]
  },
  {
   "cell_type": "code",
   "execution_count": 10,
   "id": "noticed-activation",
   "metadata": {},
   "outputs": [
    {
     "data": {
      "image/png": "[encoded data removed]",
      "text/plain": [
       "<Figure size 432x288 with 1 Axes>"
      ]
     },
     "metadata": {},
     "output_type": "display_data"
    }
   ],
   "source": [
    "plt.pie(proportions, labels = expense_categories)\n",
    "plt.title('Expense Categories')\n",
    "plt.axis('Equal')\n",
    "plt.tight_layout()\n",
    "plt.show()"
   ]
  },
  {
   "cell_type": "markdown",
   "id": "intelligent-murder",
   "metadata": {},
   "source": [
    "It seems that Salaries, Advertising, and Office Rent make up most of the expenses, while the rest of the categories make up a small percentage.\n",
    "\n",
    "Before you hand this pie chart back to management, you would like to update the pie chart so that all categories making up less than 5% of the overall expenses (Equipment, Utilities, Supplies, and Food) are collapsed into an “Other” category."
   ]
  },
  {
   "cell_type": "code",
   "execution_count": 11,
   "id": "motivated-eugene",
   "metadata": {},
   "outputs": [
    {
     "data": {
      "image/png": "[encoded data removed]",
      "text/plain": [
       "<Figure size 432x288 with 1 Axes>"
      ]
     },
     "metadata": {},
     "output_type": "display_data"
    }
   ],
   "source": [
    "expense_categories = ['Salaries', 'Advertising', 'Office Rent', 'Other']\n",
    "proportions = [0.62, 0.15, 0.15, 0.08]\n",
    "plt.clf()\n",
    "plt.pie(proportions, labels = expense_categories)\n",
    "plt.title('Expense Categories')\n",
    "plt.axis('Equal')\n",
    "plt.tight_layout()\n",
    "plt.show()"
   ]
  },
  {
   "cell_type": "markdown",
   "id": "logical-bunch",
   "metadata": {},
   "source": [
    "Now there are four categories in our updated pie chart:\n",
    "\n",
    "Salaries\n",
    "Advertising\n",
    "Office Rent\n",
    "Other\n",
    "This simplified pie chart helps the management team see a big picture view of the company’s expenses without getting distracted by noisy data.\n",
    "So, if the company wants to cut costs in a big way, we see that Salaries make up a majority of the expenses, so this is the category that the company should focus on in order to cut costs in a meaningful way.\n",
    "\n",
    "\n",
    "Now, since salaries make up 62% of expenses, the management team determines that to cut costs in a meaningful way, they must let go of some employees.\n",
    "Each employee at the company is assigned a productivity score based on their work. The management would like to keep the most highly productive employees and let go of the least productive employees.\n",
    "So, let's first, use pandas to load in employees.csv and store it in a variable called employees and print the first few rows of the data."
   ]
  },
  {
   "cell_type": "code",
   "execution_count": 12,
   "id": "oriented-jamaica",
   "metadata": {},
   "outputs": [
    {
     "data": {
      "text/html": [
       "<div>\n",
       "<style scoped>\n",
       "    .dataframe tbody tr th:only-of-type {\n",
       "        vertical-align: middle;\n",
       "    }\n",
       "\n",
       "    .dataframe tbody tr th {\n",
       "        vertical-align: top;\n",
       "    }\n",
       "\n",
       "    .dataframe thead th {\n",
       "        text-align: right;\n",
       "    }\n",
       "</style>\n",
       "<table border=\"1\" class=\"dataframe\">\n",
       "  <thead>\n",
       "    <tr style=\"text-align: right;\">\n",
       "      <th></th>\n",
       "      <th>Name</th>\n",
       "      <th>Salary</th>\n",
       "      <th>Productivity</th>\n",
       "      <th>Commute Time</th>\n",
       "    </tr>\n",
       "  </thead>\n",
       "  <tbody>\n",
       "    <tr>\n",
       "      <th>0</th>\n",
       "      <td>Mason Pender �</td>\n",
       "      <td>87902</td>\n",
       "      <td>29.91</td>\n",
       "      <td>16.79</td>\n",
       "    </tr>\n",
       "    <tr>\n",
       "      <th>1</th>\n",
       "      <td>Mia Rew �</td>\n",
       "      <td>95672</td>\n",
       "      <td>49.91</td>\n",
       "      <td>44.48</td>\n",
       "    </tr>\n",
       "    <tr>\n",
       "      <th>2</th>\n",
       "      <td>Jalisa Kroenke �</td>\n",
       "      <td>177864</td>\n",
       "      <td>78.00</td>\n",
       "      <td>19.40</td>\n",
       "    </tr>\n",
       "    <tr>\n",
       "      <th>3</th>\n",
       "      <td>Krystal Homeyer �</td>\n",
       "      <td>186643</td>\n",
       "      <td>24.36</td>\n",
       "      <td>42.06</td>\n",
       "    </tr>\n",
       "    <tr>\n",
       "      <th>4</th>\n",
       "      <td>Kiana Wishart �</td>\n",
       "      <td>167148</td>\n",
       "      <td>4.08</td>\n",
       "      <td>25.58</td>\n",
       "    </tr>\n",
       "  </tbody>\n",
       "</table>\n",
       "</div>"
      ],
      "text/plain": [
       "                Name  Salary  Productivity  Commute Time\n",
       "0     Mason Pender �   87902         29.91         16.79\n",
       "1          Mia Rew �   95672         49.91         44.48\n",
       "2   Jalisa Kroenke �  177864         78.00         19.40\n",
       "3  Krystal Homeyer �  186643         24.36         42.06\n",
       "4    Kiana Wishart �  167148          4.08         25.58"
      ]
     },
     "execution_count": 12,
     "metadata": {},
     "output_type": "execute_result"
    }
   ],
   "source": [
    "employees = pd.read_csv(r\"C:\\Users\\amanp\\OneDrive\\Desktop\\employees.csv\")\n",
    "employees.head()"
   ]
  },
  {
   "cell_type": "markdown",
   "id": "understanding-brook",
   "metadata": {},
   "source": [
    "We notice that there is a Productivity column, which indicates the productivity score assigned to that employee.\n",
    "\n",
    "Let's sort the employees data frame (in ascending order) by the Productivity column and store the result in a variable called sorted_productivity."
   ]
  },
  {
   "cell_type": "code",
   "execution_count": 13,
   "id": "compliant-purse",
   "metadata": {},
   "outputs": [
    {
     "data": {
      "text/html": [
       "<div>\n",
       "<style scoped>\n",
       "    .dataframe tbody tr th:only-of-type {\n",
       "        vertical-align: middle;\n",
       "    }\n",
       "\n",
       "    .dataframe tbody tr th {\n",
       "        vertical-align: top;\n",
       "    }\n",
       "\n",
       "    .dataframe thead th {\n",
       "        text-align: right;\n",
       "    }\n",
       "</style>\n",
       "<table border=\"1\" class=\"dataframe\">\n",
       "  <thead>\n",
       "    <tr style=\"text-align: right;\">\n",
       "      <th></th>\n",
       "      <th>Name</th>\n",
       "      <th>Salary</th>\n",
       "      <th>Productivity</th>\n",
       "      <th>Commute Time</th>\n",
       "    </tr>\n",
       "  </thead>\n",
       "  <tbody>\n",
       "    <tr>\n",
       "      <th>259</th>\n",
       "      <td>Wilber Rye �</td>\n",
       "      <td>111647</td>\n",
       "      <td>0.06</td>\n",
       "      <td>49.42</td>\n",
       "    </tr>\n",
       "    <tr>\n",
       "      <th>92</th>\n",
       "      <td>Fredric Gandee �</td>\n",
       "      <td>154469</td>\n",
       "      <td>0.24</td>\n",
       "      <td>22.48</td>\n",
       "    </tr>\n",
       "    <tr>\n",
       "      <th>252</th>\n",
       "      <td>Johnson Fordham �</td>\n",
       "      <td>168684</td>\n",
       "      <td>1.46</td>\n",
       "      <td>22.39</td>\n",
       "    </tr>\n",
       "    <tr>\n",
       "      <th>178</th>\n",
       "      <td>Lilia Lemoine �</td>\n",
       "      <td>167579</td>\n",
       "      <td>1.67</td>\n",
       "      <td>27.36</td>\n",
       "    </tr>\n",
       "    <tr>\n",
       "      <th>162</th>\n",
       "      <td>Hilma Laughton �</td>\n",
       "      <td>85506</td>\n",
       "      <td>1.79</td>\n",
       "      <td>36.41</td>\n",
       "    </tr>\n",
       "    <tr>\n",
       "      <th>...</th>\n",
       "      <td>...</td>\n",
       "      <td>...</td>\n",
       "      <td>...</td>\n",
       "      <td>...</td>\n",
       "    </tr>\n",
       "    <tr>\n",
       "      <th>164</th>\n",
       "      <td>Miki Hartle �</td>\n",
       "      <td>50856</td>\n",
       "      <td>99.54</td>\n",
       "      <td>31.39</td>\n",
       "    </tr>\n",
       "    <tr>\n",
       "      <th>88</th>\n",
       "      <td>Darell Nau �</td>\n",
       "      <td>30530</td>\n",
       "      <td>99.63</td>\n",
       "      <td>44.25</td>\n",
       "    </tr>\n",
       "    <tr>\n",
       "      <th>23</th>\n",
       "      <td>Joaquina Neece �</td>\n",
       "      <td>95562</td>\n",
       "      <td>99.66</td>\n",
       "      <td>48.65</td>\n",
       "    </tr>\n",
       "    <tr>\n",
       "      <th>202</th>\n",
       "      <td>Janae Officer �</td>\n",
       "      <td>110139</td>\n",
       "      <td>99.69</td>\n",
       "      <td>15.45</td>\n",
       "    </tr>\n",
       "    <tr>\n",
       "      <th>6</th>\n",
       "      <td>Jacinta Dunford �</td>\n",
       "      <td>130968</td>\n",
       "      <td>99.98</td>\n",
       "      <td>44.53</td>\n",
       "    </tr>\n",
       "  </tbody>\n",
       "</table>\n",
       "<p>300 rows × 4 columns</p>\n",
       "</div>"
      ],
      "text/plain": [
       "                  Name  Salary  Productivity  Commute Time\n",
       "259       Wilber Rye �  111647          0.06         49.42\n",
       "92    Fredric Gandee �  154469          0.24         22.48\n",
       "252  Johnson Fordham �  168684          1.46         22.39\n",
       "178    Lilia Lemoine �  167579          1.67         27.36\n",
       "162   Hilma Laughton �   85506          1.79         36.41\n",
       "..                 ...     ...           ...           ...\n",
       "164      Miki Hartle �   50856         99.54         31.39\n",
       "88        Darell Nau �   30530         99.63         44.25\n",
       "23    Joaquina Neece �   95562         99.66         48.65\n",
       "202    Janae Officer �  110139         99.69         15.45\n",
       "6    Jacinta Dunford �  130968         99.98         44.53\n",
       "\n",
       "[300 rows x 4 columns]"
      ]
     },
     "execution_count": 13,
     "metadata": {},
     "output_type": "execute_result"
    }
   ],
   "source": [
    "sorted_productivity = employees.sort_values(by=['Productivity'])\n",
    " \n",
    "sorted_productivity"
   ]
  },
  {
   "cell_type": "markdown",
   "id": "internal-imagination",
   "metadata": {},
   "source": [
    "We now see the employees with the lowest productivity scores at the top of the data frame.\n",
    "\n",
    "The company decides to let go of the 100 least productive employees.\n",
    "\n",
    "Let's store the first 100 rows of sorted_productivity in a new variable called employees_cut and print out the result.\n",
    "Unfortunately, this batch of employees won’t be so lucky."
   ]
  },
  {
   "cell_type": "code",
   "execution_count": 14,
   "id": "caroline-composite",
   "metadata": {},
   "outputs": [
    {
     "data": {
      "text/html": [
       "<div>\n",
       "<style scoped>\n",
       "    .dataframe tbody tr th:only-of-type {\n",
       "        vertical-align: middle;\n",
       "    }\n",
       "\n",
       "    .dataframe tbody tr th {\n",
       "        vertical-align: top;\n",
       "    }\n",
       "\n",
       "    .dataframe thead th {\n",
       "        text-align: right;\n",
       "    }\n",
       "</style>\n",
       "<table border=\"1\" class=\"dataframe\">\n",
       "  <thead>\n",
       "    <tr style=\"text-align: right;\">\n",
       "      <th></th>\n",
       "      <th>Name</th>\n",
       "      <th>Salary</th>\n",
       "      <th>Productivity</th>\n",
       "      <th>Commute Time</th>\n",
       "    </tr>\n",
       "  </thead>\n",
       "  <tbody>\n",
       "    <tr>\n",
       "      <th>259</th>\n",
       "      <td>Wilber Rye �</td>\n",
       "      <td>111647</td>\n",
       "      <td>0.06</td>\n",
       "      <td>49.42</td>\n",
       "    </tr>\n",
       "    <tr>\n",
       "      <th>92</th>\n",
       "      <td>Fredric Gandee �</td>\n",
       "      <td>154469</td>\n",
       "      <td>0.24</td>\n",
       "      <td>22.48</td>\n",
       "    </tr>\n",
       "    <tr>\n",
       "      <th>252</th>\n",
       "      <td>Johnson Fordham �</td>\n",
       "      <td>168684</td>\n",
       "      <td>1.46</td>\n",
       "      <td>22.39</td>\n",
       "    </tr>\n",
       "    <tr>\n",
       "      <th>178</th>\n",
       "      <td>Lilia Lemoine �</td>\n",
       "      <td>167579</td>\n",
       "      <td>1.67</td>\n",
       "      <td>27.36</td>\n",
       "    </tr>\n",
       "    <tr>\n",
       "      <th>162</th>\n",
       "      <td>Hilma Laughton �</td>\n",
       "      <td>85506</td>\n",
       "      <td>1.79</td>\n",
       "      <td>36.41</td>\n",
       "    </tr>\n",
       "    <tr>\n",
       "      <th>...</th>\n",
       "      <td>...</td>\n",
       "      <td>...</td>\n",
       "      <td>...</td>\n",
       "      <td>...</td>\n",
       "    </tr>\n",
       "    <tr>\n",
       "      <th>43</th>\n",
       "      <td>Bernardo Klingenberg �</td>\n",
       "      <td>55464</td>\n",
       "      <td>34.52</td>\n",
       "      <td>32.27</td>\n",
       "    </tr>\n",
       "    <tr>\n",
       "      <th>186</th>\n",
       "      <td>Ashleigh Istre �</td>\n",
       "      <td>178627</td>\n",
       "      <td>34.70</td>\n",
       "      <td>38.67</td>\n",
       "    </tr>\n",
       "    <tr>\n",
       "      <th>288</th>\n",
       "      <td>Penni Kimbrough �</td>\n",
       "      <td>142680</td>\n",
       "      <td>35.21</td>\n",
       "      <td>49.64</td>\n",
       "    </tr>\n",
       "    <tr>\n",
       "      <th>269</th>\n",
       "      <td>Margot Mackenzie �</td>\n",
       "      <td>114302</td>\n",
       "      <td>35.79</td>\n",
       "      <td>19.87</td>\n",
       "    </tr>\n",
       "    <tr>\n",
       "      <th>218</th>\n",
       "      <td>Quinn Frampton �</td>\n",
       "      <td>44000</td>\n",
       "      <td>36.36</td>\n",
       "      <td>34.12</td>\n",
       "    </tr>\n",
       "  </tbody>\n",
       "</table>\n",
       "<p>100 rows × 4 columns</p>\n",
       "</div>"
      ],
      "text/plain": [
       "                       Name  Salary  Productivity  Commute Time\n",
       "259            Wilber Rye �  111647          0.06         49.42\n",
       "92         Fredric Gandee �  154469          0.24         22.48\n",
       "252       Johnson Fordham �  168684          1.46         22.39\n",
       "178         Lilia Lemoine �  167579          1.67         27.36\n",
       "162        Hilma Laughton �   85506          1.79         36.41\n",
       "..                      ...     ...           ...           ...\n",
       "43   Bernardo Klingenberg �   55464         34.52         32.27\n",
       "186        Ashleigh Istre �  178627         34.70         38.67\n",
       "288       Penni Kimbrough �  142680         35.21         49.64\n",
       "269      Margot Mackenzie �  114302         35.79         19.87\n",
       "218        Quinn Frampton �   44000         36.36         34.12\n",
       "\n",
       "[100 rows x 4 columns]"
      ]
     },
     "execution_count": 14,
     "metadata": {},
     "output_type": "execute_result"
    }
   ],
   "source": [
    "employees_cut = sorted_productivity.head(100)\n",
    "employees_cut"
   ]
  },
  {
   "cell_type": "markdown",
   "id": "sudden-slave",
   "metadata": {},
   "source": [
    "\n",
    "The COO (Chief Operating Officer) is debating whether to allow employees to continue to work from home post-pandemic.\n",
    "\n",
    "He first wants to take a look at roughly how long the average commute time is for employees at the company. He asks for our help to analyze this data.\n",
    "\n",
    "The employees data frame has a column called Commute Time that stores the commute time (in minutes) for each employee.\n",
    "\n",
    "Let's create a variable called commute_times that stores the Commute Time column."
   ]
  },
  {
   "cell_type": "code",
   "execution_count": 15,
   "id": "fantastic-episode",
   "metadata": {},
   "outputs": [],
   "source": [
    "commute_times = employees['Commute Time']"
   ]
  },
  {
   "cell_type": "code",
   "execution_count": 16,
   "id": "extreme-attraction",
   "metadata": {},
   "outputs": [
    {
     "data": {
      "text/plain": [
       "count    300.000000\n",
       "mean      33.441700\n",
       "std       16.128369\n",
       "min        3.220000\n",
       "25%       21.667500\n",
       "50%       31.060000\n",
       "75%       42.190000\n",
       "max      101.780000\n",
       "Name: Commute Time, dtype: float64"
      ]
     },
     "execution_count": 16,
     "metadata": {},
     "output_type": "execute_result"
    }
   ],
   "source": [
    "# Let's do some quick analysis on the commute times of employees by using .describe() method.\n",
    "commute_times.describe()"
   ]
  },
  {
   "cell_type": "markdown",
   "id": "cordless-bulletin",
   "metadata": {},
   "source": [
    "So, the average and median commute times are 33 and 31 minutes, respectively. It might be worth it for the company to explore allowing remote work indefinitely so employees can save time during the day.\n",
    "\n",
    "Let’s explore the shape of the commute time data using a histogram."
   ]
  },
  {
   "cell_type": "code",
   "execution_count": 17,
   "id": "buried-riding",
   "metadata": {},
   "outputs": [
    {
     "data": {
      "image/png": "[encoded data removed]",
      "text/plain": [
       "<Figure size 432x288 with 1 Axes>"
      ]
     },
     "metadata": {
      "needs_background": "light"
     },
     "output_type": "display_data"
    }
   ],
   "source": [
    "plt.hist(commute_times)\n",
    "plt.title(\"Employee Commute Times\")\n",
    "plt.xlabel(\"Commute Time\")\n",
    "plt.ylabel(\"Frequency\")\n",
    "plt.show()"
   ]
  },
  {
   "cell_type": "markdown",
   "id": "subsequent-there",
   "metadata": {},
   "source": [
    "The data seems to be skewed to the right. To make it more symmetrical, let's apply a log transformation."
   ]
  },
  {
   "cell_type": "code",
   "execution_count": 18,
   "id": "popular-thousand",
   "metadata": {},
   "outputs": [],
   "source": [
    "commute_times_log = np.log(commute_times)"
   ]
  },
  {
   "cell_type": "markdown",
   "id": "limited-brand",
   "metadata": {},
   "source": [
    "Let's make the histogram for commute_times_log instead of commute_times."
   ]
  },
  {
   "cell_type": "code",
   "execution_count": 19,
   "id": "northern-chancellor",
   "metadata": {},
   "outputs": [
    {
     "data": {
      "image/png": "[encoded data removed]",
      "text/plain": [
       "<Figure size 432x288 with 1 Axes>"
      ]
     },
     "metadata": {
      "needs_background": "light"
     },
     "output_type": "display_data"
    }
   ],
   "source": [
    "plt.hist(commute_times_log)\n",
    "plt.title(\"Employee Commute Times\")\n",
    "plt.xlabel(\"Commute Time\")\n",
    "plt.ylabel(\"Frequency\")\n",
    "plt.show()"
   ]
  },
  {
   "cell_type": "markdown",
   "id": "cardiovascular-referral",
   "metadata": {},
   "source": [
    "Now the transformed data looks more “normal” than before.\n",
    "\n",
    "### Conclusion and next steps:\n",
    "\n",
    "In this project, we performed data analysis to help a management team answer important questions about the status of the company during a difficult time.\n",
    "\n",
    "We did this by analyzing data sets and applying common data transformation techniques.\n",
    "\n",
    "Further, we can :\n",
    "\n",
    "Apply standardization to the employees data using StandardScaler() from sklearn. \n",
    "\n",
    "Explore the income and productivity features in more detail to find a relationship between productivity and income, etc."
   ]
  },
  {
   "cell_type": "code",
   "execution_count": null,
   "id": "motivated-subsection",
   "metadata": {},
   "outputs": [],
   "source": []
  }
 ],
 "metadata": {
  "kernelspec": {
   "display_name": "Python 3",
   "language": "python",
   "name": "python3"
  },
  "language_info": {
   "codemirror_mode": {
    "name": "ipython",
    "version": 3
   },
   "file_extension": ".py",
   "mimetype": "text/x-python",
   "name": "python",
   "nbconvert_exporter": "python",
   "pygments_lexer": "ipython3",
   "version": "3.8.5"
  }
 },
 "nbformat": 4,
 "nbformat_minor": 5
}

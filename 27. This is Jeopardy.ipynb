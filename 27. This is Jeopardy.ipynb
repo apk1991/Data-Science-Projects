{
 "cells": [
  {
   "cell_type": "markdown",
   "id": "direct-appointment",
   "metadata": {},
   "source": [
    "## Winning Jeopardy!\n",
    "\n",
    "In this project, we will work to write several functions that investigate a dataset of Jeopardy! questions and answers. The dataset can be found [here](https://www.reddit.com/r/datasets/comments/1uyd0t/200000_jeopardy_questions_in_a_json_file/).\n",
    "\n",
    "We will look for ways in which we might gain an advantage in order to win at Jeopardy. We will filter the dataset for topics that we’re interested in, compute the average difficulty of those questions, and train to become the next Jeopardy champion!"
   ]
  },
  {
   "cell_type": "code",
   "execution_count": 40,
   "id": "equipped-sampling",
   "metadata": {},
   "outputs": [],
   "source": [
    "# Let's import the packages\n",
    "import pandas as pd\n",
    "import re\n",
    "import warnings\n",
    "warnings.filterwarnings(\"ignore\")"
   ]
  },
  {
   "cell_type": "markdown",
   "id": "israeli-studio",
   "metadata": {},
   "source": [
    "We are provided with a csv file containing data about the game show Jeopardy! \n",
    "Let's load the data into a DataFrame and investigate its contents.\n",
    "\n"
   ]
  },
  {
   "cell_type": "code",
   "execution_count": 41,
   "id": "neural-greene",
   "metadata": {},
   "outputs": [
    {
     "data": {
      "text/html": [
       "<div>\n",
       "<style scoped>\n",
       "    .dataframe tbody tr th:only-of-type {\n",
       "        vertical-align: middle;\n",
       "    }\n",
       "\n",
       "    .dataframe tbody tr th {\n",
       "        vertical-align: top;\n",
       "    }\n",
       "\n",
       "    .dataframe thead th {\n",
       "        text-align: right;\n",
       "    }\n",
       "</style>\n",
       "<table border=\"1\" class=\"dataframe\">\n",
       "  <thead>\n",
       "    <tr style=\"text-align: right;\">\n",
       "      <th></th>\n",
       "      <th>Show Number</th>\n",
       "      <th>Air Date</th>\n",
       "      <th>Round</th>\n",
       "      <th>Category</th>\n",
       "      <th>Value</th>\n",
       "      <th>Question</th>\n",
       "      <th>Answer</th>\n",
       "    </tr>\n",
       "  </thead>\n",
       "  <tbody>\n",
       "    <tr>\n",
       "      <th>0</th>\n",
       "      <td>4680</td>\n",
       "      <td>2004-12-31</td>\n",
       "      <td>Jeopardy!</td>\n",
       "      <td>HISTORY</td>\n",
       "      <td>$200</td>\n",
       "      <td>For the last 8 years of his life, Galileo was under house arrest for espousing this man's theory</td>\n",
       "      <td>Copernicus</td>\n",
       "    </tr>\n",
       "    <tr>\n",
       "      <th>1</th>\n",
       "      <td>4680</td>\n",
       "      <td>2004-12-31</td>\n",
       "      <td>Jeopardy!</td>\n",
       "      <td>ESPN's TOP 10 ALL-TIME ATHLETES</td>\n",
       "      <td>$200</td>\n",
       "      <td>No. 2: 1912 Olympian; football star at Carlisle Indian School; 6 MLB seasons with the Reds, Giants &amp; Braves</td>\n",
       "      <td>Jim Thorpe</td>\n",
       "    </tr>\n",
       "    <tr>\n",
       "      <th>2</th>\n",
       "      <td>4680</td>\n",
       "      <td>2004-12-31</td>\n",
       "      <td>Jeopardy!</td>\n",
       "      <td>EVERYBODY TALKS ABOUT IT...</td>\n",
       "      <td>$200</td>\n",
       "      <td>The city of Yuma in this state has a record average of 4,055 hours of sunshine each year</td>\n",
       "      <td>Arizona</td>\n",
       "    </tr>\n",
       "    <tr>\n",
       "      <th>3</th>\n",
       "      <td>4680</td>\n",
       "      <td>2004-12-31</td>\n",
       "      <td>Jeopardy!</td>\n",
       "      <td>THE COMPANY LINE</td>\n",
       "      <td>$200</td>\n",
       "      <td>In 1963, live on \"The Art Linkletter Show\", this company served its billionth burger</td>\n",
       "      <td>McDonald's</td>\n",
       "    </tr>\n",
       "    <tr>\n",
       "      <th>4</th>\n",
       "      <td>4680</td>\n",
       "      <td>2004-12-31</td>\n",
       "      <td>Jeopardy!</td>\n",
       "      <td>EPITAPHS &amp; TRIBUTES</td>\n",
       "      <td>$200</td>\n",
       "      <td>Signer of the Dec. of Indep., framer of the Constitution of Mass., second President of the United States</td>\n",
       "      <td>John Adams</td>\n",
       "    </tr>\n",
       "    <tr>\n",
       "      <th>5</th>\n",
       "      <td>4680</td>\n",
       "      <td>2004-12-31</td>\n",
       "      <td>Jeopardy!</td>\n",
       "      <td>3-LETTER WORDS</td>\n",
       "      <td>$200</td>\n",
       "      <td>In the title of an Aesop fable, this insect shared billing with a grasshopper</td>\n",
       "      <td>the ant</td>\n",
       "    </tr>\n",
       "    <tr>\n",
       "      <th>6</th>\n",
       "      <td>4680</td>\n",
       "      <td>2004-12-31</td>\n",
       "      <td>Jeopardy!</td>\n",
       "      <td>HISTORY</td>\n",
       "      <td>$400</td>\n",
       "      <td>Built in 312 B.C. to link Rome &amp; the South of Italy, it's still in use today</td>\n",
       "      <td>the Appian Way</td>\n",
       "    </tr>\n",
       "    <tr>\n",
       "      <th>7</th>\n",
       "      <td>4680</td>\n",
       "      <td>2004-12-31</td>\n",
       "      <td>Jeopardy!</td>\n",
       "      <td>ESPN's TOP 10 ALL-TIME ATHLETES</td>\n",
       "      <td>$400</td>\n",
       "      <td>No. 8: 30 steals for the Birmingham Barons; 2,306 steals for the Bulls</td>\n",
       "      <td>Michael Jordan</td>\n",
       "    </tr>\n",
       "    <tr>\n",
       "      <th>8</th>\n",
       "      <td>4680</td>\n",
       "      <td>2004-12-31</td>\n",
       "      <td>Jeopardy!</td>\n",
       "      <td>EVERYBODY TALKS ABOUT IT...</td>\n",
       "      <td>$400</td>\n",
       "      <td>In the winter of 1971-72, a record 1,122 inches of snow fell at Rainier Paradise Ranger Station in this state</td>\n",
       "      <td>Washington</td>\n",
       "    </tr>\n",
       "    <tr>\n",
       "      <th>9</th>\n",
       "      <td>4680</td>\n",
       "      <td>2004-12-31</td>\n",
       "      <td>Jeopardy!</td>\n",
       "      <td>THE COMPANY LINE</td>\n",
       "      <td>$400</td>\n",
       "      <td>This housewares store was named for the packaging its merchandise came in &amp; was first displayed on</td>\n",
       "      <td>Crate &amp; Barrel</td>\n",
       "    </tr>\n",
       "  </tbody>\n",
       "</table>\n",
       "</div>"
      ],
      "text/plain": [
       "   Show Number    Air Date      Round                         Category  Value  \\\n",
       "0  4680         2004-12-31  Jeopardy!  HISTORY                          $200    \n",
       "1  4680         2004-12-31  Jeopardy!  ESPN's TOP 10 ALL-TIME ATHLETES  $200    \n",
       "2  4680         2004-12-31  Jeopardy!  EVERYBODY TALKS ABOUT IT...      $200    \n",
       "3  4680         2004-12-31  Jeopardy!  THE COMPANY LINE                 $200    \n",
       "4  4680         2004-12-31  Jeopardy!  EPITAPHS & TRIBUTES              $200    \n",
       "5  4680         2004-12-31  Jeopardy!  3-LETTER WORDS                   $200    \n",
       "6  4680         2004-12-31  Jeopardy!  HISTORY                          $400    \n",
       "7  4680         2004-12-31  Jeopardy!  ESPN's TOP 10 ALL-TIME ATHLETES  $400    \n",
       "8  4680         2004-12-31  Jeopardy!  EVERYBODY TALKS ABOUT IT...      $400    \n",
       "9  4680         2004-12-31  Jeopardy!  THE COMPANY LINE                 $400    \n",
       "\n",
       "                                                                                                        Question  \\\n",
       "0  For the last 8 years of his life, Galileo was under house arrest for espousing this man's theory                \n",
       "1  No. 2: 1912 Olympian; football star at Carlisle Indian School; 6 MLB seasons with the Reds, Giants & Braves     \n",
       "2  The city of Yuma in this state has a record average of 4,055 hours of sunshine each year                        \n",
       "3  In 1963, live on \"The Art Linkletter Show\", this company served its billionth burger                            \n",
       "4  Signer of the Dec. of Indep., framer of the Constitution of Mass., second President of the United States        \n",
       "5  In the title of an Aesop fable, this insect shared billing with a grasshopper                                   \n",
       "6  Built in 312 B.C. to link Rome & the South of Italy, it's still in use today                                    \n",
       "7  No. 8: 30 steals for the Birmingham Barons; 2,306 steals for the Bulls                                          \n",
       "8  In the winter of 1971-72, a record 1,122 inches of snow fell at Rainier Paradise Ranger Station in this state   \n",
       "9  This housewares store was named for the packaging its merchandise came in & was first displayed on              \n",
       "\n",
       "           Answer  \n",
       "0  Copernicus      \n",
       "1  Jim Thorpe      \n",
       "2  Arizona         \n",
       "3  McDonald's      \n",
       "4  John Adams      \n",
       "5  the ant         \n",
       "6  the Appian Way  \n",
       "7  Michael Jordan  \n",
       "8  Washington      \n",
       "9  Crate & Barrel  "
      ]
     },
     "execution_count": 41,
     "metadata": {},
     "output_type": "execute_result"
    }
   ],
   "source": [
    "pd.set_option('display.max_colwidth', -1) # To disply the full contents of a column.\n",
    "\n",
    "df = pd.read_csv(r\"C:\\Users\\amanp\\OneDrive\\Desktop\\jeopardy.csv\")\n",
    "df.head(10)"
   ]
  },
  {
   "cell_type": "markdown",
   "id": "sweet-enzyme",
   "metadata": {},
   "source": [
    "### Cleaning the dataset\n",
    "\n",
    "The dataset requires a lot of cleaning. Let's do that first.\n",
    "\n",
    "\n",
    "#### 1. Renaming the columns"
   ]
  },
  {
   "cell_type": "code",
   "execution_count": 42,
   "id": "built-shuttle",
   "metadata": {},
   "outputs": [
    {
     "data": {
      "text/plain": [
       "Index(['Show Number', ' Air Date', ' Round', ' Category', ' Value',\n",
       "       ' Question', ' Answer'],\n",
       "      dtype='object')"
      ]
     },
     "execution_count": 42,
     "metadata": {},
     "output_type": "execute_result"
    }
   ],
   "source": [
    "# Let's examine the columns\n",
    "df.columns"
   ]
  },
  {
   "cell_type": "markdown",
   "id": "asian-sherman",
   "metadata": {},
   "source": [
    "We see that the column names all have a leading space. Let's rename them to make life easier for the rest of the project."
   ]
  },
  {
   "cell_type": "code",
   "execution_count": 43,
   "id": "victorian-bradley",
   "metadata": {},
   "outputs": [],
   "source": [
    "df = df.rename(columns = {\" Air Date\": \"Air Date\", \" Round\" : \"Round\", \" Category\": \"Category\", \" Value\": \"Value\", \" Question\":\"Question\", \" Answer\": \"Answer\"})"
   ]
  },
  {
   "cell_type": "code",
   "execution_count": 44,
   "id": "julian-mentor",
   "metadata": {},
   "outputs": [
    {
     "data": {
      "text/plain": [
       "Index(['Show Number', 'Air Date', 'Round', 'Category', 'Value', 'Question',\n",
       "       'Answer'],\n",
       "      dtype='object')"
      ]
     },
     "execution_count": 44,
     "metadata": {},
     "output_type": "execute_result"
    }
   ],
   "source": [
    "# Let's check the column names again.\n",
    "df.columns"
   ]
  },
  {
   "cell_type": "markdown",
   "id": "posted-defense",
   "metadata": {},
   "source": [
    "#### 2. Normalizing the Text  Column\n",
    "Before we start our analysis, we need to normalize the Question and Answer columns by removing punctuation and making sure all words are lowercase so that we will be able to compare them."
   ]
  },
  {
   "cell_type": "code",
   "execution_count": 45,
   "id": "integral-removal",
   "metadata": {},
   "outputs": [],
   "source": [
    "def normalize_text(text):\n",
    "    text = text.lower()\n",
    "    text = re.sub('[^A-Za-z0-9\\s]', '', text) # Removes all punctuation\n",
    "    text = re.sub('\\s+', ' ', text) # Replaces any number of spaces with a single space\n",
    "    return text"
   ]
  },
  {
   "cell_type": "code",
   "execution_count": 46,
   "id": "extreme-disclosure",
   "metadata": {},
   "outputs": [],
   "source": [
    "df['clean_question'] = df['Question'].apply(normalize_text)\n",
    "df['clean_answer'] = df['Answer'].apply(normalize_text)"
   ]
  },
  {
   "cell_type": "markdown",
   "id": "ready-mason",
   "metadata": {},
   "source": [
    "#### 3. Normalizing the Numeric Column\n",
    "\n",
    "The values in the 'Value' column are strings. Let's create a new column with the float values."
   ]
  },
  {
   "cell_type": "code",
   "execution_count": 47,
   "id": "colonial-component",
   "metadata": {},
   "outputs": [],
   "source": [
    " # Adding a new column. If the value of the float column is not \"None\", then we cut off the first character (which is a dollar sign), and replace all commas with nothing, and then cast that value to a float. If the answer was \"None\", then we just enter a 0.\n",
    "df[\"Float Value\"] = df[\"Value\"].apply(lambda x: float(x[1:].replace(',','')) if x != \"None\" else 0)"
   ]
  },
  {
   "cell_type": "markdown",
   "id": "elegant-incident",
   "metadata": {},
   "source": [
    "#### 4. Normalizing the Air Date column\n",
    "\n",
    "so that the values are datetime objects and not strings."
   ]
  },
  {
   "cell_type": "code",
   "execution_count": 48,
   "id": "surrounded-third",
   "metadata": {},
   "outputs": [],
   "source": [
    "df['Air Date'] = pd.to_datetime(df['Air Date'])"
   ]
  },
  {
   "cell_type": "code",
   "execution_count": 49,
   "id": "partial-beauty",
   "metadata": {},
   "outputs": [
    {
     "data": {
      "text/html": [
       "<div>\n",
       "<style scoped>\n",
       "    .dataframe tbody tr th:only-of-type {\n",
       "        vertical-align: middle;\n",
       "    }\n",
       "\n",
       "    .dataframe tbody tr th {\n",
       "        vertical-align: top;\n",
       "    }\n",
       "\n",
       "    .dataframe thead th {\n",
       "        text-align: right;\n",
       "    }\n",
       "</style>\n",
       "<table border=\"1\" class=\"dataframe\">\n",
       "  <thead>\n",
       "    <tr style=\"text-align: right;\">\n",
       "      <th></th>\n",
       "      <th>Show Number</th>\n",
       "      <th>Air Date</th>\n",
       "      <th>Round</th>\n",
       "      <th>Category</th>\n",
       "      <th>Value</th>\n",
       "      <th>Question</th>\n",
       "      <th>Answer</th>\n",
       "      <th>clean_question</th>\n",
       "      <th>clean_answer</th>\n",
       "      <th>Float Value</th>\n",
       "    </tr>\n",
       "  </thead>\n",
       "  <tbody>\n",
       "    <tr>\n",
       "      <th>0</th>\n",
       "      <td>4680</td>\n",
       "      <td>2004-12-31</td>\n",
       "      <td>Jeopardy!</td>\n",
       "      <td>HISTORY</td>\n",
       "      <td>$200</td>\n",
       "      <td>For the last 8 years of his life, Galileo was under house arrest for espousing this man's theory</td>\n",
       "      <td>Copernicus</td>\n",
       "      <td>for the last 8 years of his life galileo was under house arrest for espousing this mans theory</td>\n",
       "      <td>copernicus</td>\n",
       "      <td>200.0</td>\n",
       "    </tr>\n",
       "    <tr>\n",
       "      <th>1</th>\n",
       "      <td>4680</td>\n",
       "      <td>2004-12-31</td>\n",
       "      <td>Jeopardy!</td>\n",
       "      <td>ESPN's TOP 10 ALL-TIME ATHLETES</td>\n",
       "      <td>$200</td>\n",
       "      <td>No. 2: 1912 Olympian; football star at Carlisle Indian School; 6 MLB seasons with the Reds, Giants &amp; Braves</td>\n",
       "      <td>Jim Thorpe</td>\n",
       "      <td>no 2 1912 olympian football star at carlisle indian school 6 mlb seasons with the reds giants braves</td>\n",
       "      <td>jim thorpe</td>\n",
       "      <td>200.0</td>\n",
       "    </tr>\n",
       "    <tr>\n",
       "      <th>2</th>\n",
       "      <td>4680</td>\n",
       "      <td>2004-12-31</td>\n",
       "      <td>Jeopardy!</td>\n",
       "      <td>EVERYBODY TALKS ABOUT IT...</td>\n",
       "      <td>$200</td>\n",
       "      <td>The city of Yuma in this state has a record average of 4,055 hours of sunshine each year</td>\n",
       "      <td>Arizona</td>\n",
       "      <td>the city of yuma in this state has a record average of 4055 hours of sunshine each year</td>\n",
       "      <td>arizona</td>\n",
       "      <td>200.0</td>\n",
       "    </tr>\n",
       "    <tr>\n",
       "      <th>3</th>\n",
       "      <td>4680</td>\n",
       "      <td>2004-12-31</td>\n",
       "      <td>Jeopardy!</td>\n",
       "      <td>THE COMPANY LINE</td>\n",
       "      <td>$200</td>\n",
       "      <td>In 1963, live on \"The Art Linkletter Show\", this company served its billionth burger</td>\n",
       "      <td>McDonald's</td>\n",
       "      <td>in 1963 live on the art linkletter show this company served its billionth burger</td>\n",
       "      <td>mcdonalds</td>\n",
       "      <td>200.0</td>\n",
       "    </tr>\n",
       "    <tr>\n",
       "      <th>4</th>\n",
       "      <td>4680</td>\n",
       "      <td>2004-12-31</td>\n",
       "      <td>Jeopardy!</td>\n",
       "      <td>EPITAPHS &amp; TRIBUTES</td>\n",
       "      <td>$200</td>\n",
       "      <td>Signer of the Dec. of Indep., framer of the Constitution of Mass., second President of the United States</td>\n",
       "      <td>John Adams</td>\n",
       "      <td>signer of the dec of indep framer of the constitution of mass second president of the united states</td>\n",
       "      <td>john adams</td>\n",
       "      <td>200.0</td>\n",
       "    </tr>\n",
       "  </tbody>\n",
       "</table>\n",
       "</div>"
      ],
      "text/plain": [
       "   Show Number   Air Date      Round                         Category Value  \\\n",
       "0  4680        2004-12-31  Jeopardy!  HISTORY                          $200   \n",
       "1  4680        2004-12-31  Jeopardy!  ESPN's TOP 10 ALL-TIME ATHLETES  $200   \n",
       "2  4680        2004-12-31  Jeopardy!  EVERYBODY TALKS ABOUT IT...      $200   \n",
       "3  4680        2004-12-31  Jeopardy!  THE COMPANY LINE                 $200   \n",
       "4  4680        2004-12-31  Jeopardy!  EPITAPHS & TRIBUTES              $200   \n",
       "\n",
       "                                                                                                      Question  \\\n",
       "0  For the last 8 years of his life, Galileo was under house arrest for espousing this man's theory              \n",
       "1  No. 2: 1912 Olympian; football star at Carlisle Indian School; 6 MLB seasons with the Reds, Giants & Braves   \n",
       "2  The city of Yuma in this state has a record average of 4,055 hours of sunshine each year                      \n",
       "3  In 1963, live on \"The Art Linkletter Show\", this company served its billionth burger                          \n",
       "4  Signer of the Dec. of Indep., framer of the Constitution of Mass., second President of the United States      \n",
       "\n",
       "       Answer  \\\n",
       "0  Copernicus   \n",
       "1  Jim Thorpe   \n",
       "2  Arizona      \n",
       "3  McDonald's   \n",
       "4  John Adams   \n",
       "\n",
       "                                                                                         clean_question  \\\n",
       "0  for the last 8 years of his life galileo was under house arrest for espousing this mans theory         \n",
       "1  no 2 1912 olympian football star at carlisle indian school 6 mlb seasons with the reds giants braves   \n",
       "2  the city of yuma in this state has a record average of 4055 hours of sunshine each year                \n",
       "3  in 1963 live on the art linkletter show this company served its billionth burger                       \n",
       "4  signer of the dec of indep framer of the constitution of mass second president of the united states    \n",
       "\n",
       "  clean_answer  Float Value  \n",
       "0  copernicus   200.0        \n",
       "1  jim thorpe   200.0        \n",
       "2  arizona      200.0        \n",
       "3  mcdonalds    200.0        \n",
       "4  john adams   200.0        "
      ]
     },
     "execution_count": 49,
     "metadata": {},
     "output_type": "execute_result"
    }
   ],
   "source": [
    "# Let's see our cleaned dataframe now.\n",
    "\n",
    "df.head()"
   ]
  },
  {
   "cell_type": "markdown",
   "id": "agricultural-softball",
   "metadata": {},
   "source": [
    "## Now our data is clean and ready for analysis"
   ]
  },
  {
   "cell_type": "markdown",
   "id": "sensitive-consensus",
   "metadata": {},
   "source": [
    "### Let's write a function that filters the dataset for questions that contains all of the words in a list of words.\n",
    "\n",
    "For example, when the list [\"King\", \"England\"] was passed to our function, the function returned a DataFrame of 152 rows. Every row had the strings \"King\" and \"England\" somewhere in its \" Question\"."
   ]
  },
  {
   "cell_type": "markdown",
   "id": "stuffed-crash",
   "metadata": {},
   "source": [
    "#### 1. Defining the function:"
   ]
  },
  {
   "cell_type": "code",
   "execution_count": 50,
   "id": "rotary-provincial",
   "metadata": {},
   "outputs": [],
   "source": [
    "# Filtering a dataset by a list of words\n",
    "def filter_data(data, words):\n",
    "  # Lowercases all words in the list of words as well as the questions. Returns true is all of the words in the list appear in the question.\n",
    "  filter = lambda x: all(word.lower() in x.lower() for word in words)\n",
    "  # Applies the labmda function to the Question column and returns the rows where the function returned True\n",
    "  return data.loc[data[\"Question\"].apply(filter)]"
   ]
  },
  {
   "cell_type": "markdown",
   "id": "swedish-enclosure",
   "metadata": {},
   "source": [
    "#### 2. Testing the function:"
   ]
  },
  {
   "cell_type": "code",
   "execution_count": 51,
   "id": "discrete-pitch",
   "metadata": {},
   "outputs": [
    {
     "data": {
      "text/html": [
       "<div>\n",
       "<style scoped>\n",
       "    .dataframe tbody tr th:only-of-type {\n",
       "        vertical-align: middle;\n",
       "    }\n",
       "\n",
       "    .dataframe tbody tr th {\n",
       "        vertical-align: top;\n",
       "    }\n",
       "\n",
       "    .dataframe thead th {\n",
       "        text-align: right;\n",
       "    }\n",
       "</style>\n",
       "<table border=\"1\" class=\"dataframe\">\n",
       "  <thead>\n",
       "    <tr style=\"text-align: right;\">\n",
       "      <th></th>\n",
       "      <th>Show Number</th>\n",
       "      <th>Air Date</th>\n",
       "      <th>Round</th>\n",
       "      <th>Category</th>\n",
       "      <th>Value</th>\n",
       "      <th>Question</th>\n",
       "      <th>Answer</th>\n",
       "      <th>clean_question</th>\n",
       "      <th>clean_answer</th>\n",
       "      <th>Float Value</th>\n",
       "    </tr>\n",
       "  </thead>\n",
       "  <tbody>\n",
       "    <tr>\n",
       "      <th>4953</th>\n",
       "      <td>3003</td>\n",
       "      <td>1997-09-24</td>\n",
       "      <td>Double Jeopardy!</td>\n",
       "      <td>\"PH\"UN WORDS</td>\n",
       "      <td>$200</td>\n",
       "      <td>Both England's King George V &amp; FDR put their stamp of approval on this \"King of Hobbies\"</td>\n",
       "      <td>Philately (stamp collecting)</td>\n",
       "      <td>both englands king george v fdr put their stamp of approval on this king of hobbies</td>\n",
       "      <td>philately stamp collecting</td>\n",
       "      <td>200.0</td>\n",
       "    </tr>\n",
       "  </tbody>\n",
       "</table>\n",
       "</div>"
      ],
      "text/plain": [
       "      Show Number   Air Date             Round      Category Value  \\\n",
       "4953  3003        1997-09-24  Double Jeopardy!  \"PH\"UN WORDS  $200   \n",
       "\n",
       "                                                                                      Question  \\\n",
       "4953  Both England's King George V & FDR put their stamp of approval on this \"King of Hobbies\"   \n",
       "\n",
       "                            Answer  \\\n",
       "4953  Philately (stamp collecting)   \n",
       "\n",
       "                                                                           clean_question  \\\n",
       "4953  both englands king george v fdr put their stamp of approval on this king of hobbies   \n",
       "\n",
       "                    clean_answer  Float Value  \n",
       "4953  philately stamp collecting  200.0        "
      ]
     },
     "execution_count": 51,
     "metadata": {},
     "output_type": "execute_result"
    }
   ],
   "source": [
    "# Testing the filter function\n",
    "\n",
    "filtered_1 = filter_data(df, [\"King\", \"England\"])\n",
    "\n",
    "filtered_1"
   ]
  },
  {
   "cell_type": "code",
   "execution_count": 52,
   "id": "sound-preliminary",
   "metadata": {},
   "outputs": [
    {
     "data": {
      "text/plain": [
       "4953    Both England's King George V & FDR put their stamp of approval on this \"King of Hobbies\"\n",
       "Name: Question, dtype: object"
      ]
     },
     "execution_count": 52,
     "metadata": {},
     "output_type": "execute_result"
    }
   ],
   "source": [
    "# Let's print just the question in filtered\n",
    "filtered_1[\"Question\"]"
   ]
  },
  {
   "cell_type": "markdown",
   "id": "thorough-gentleman",
   "metadata": {},
   "source": [
    "Great Job! Our funtion is working properly. \n",
    "\n",
    "Let's check it out with some other list of words."
   ]
  },
  {
   "cell_type": "code",
   "execution_count": 53,
   "id": "proof-hacker",
   "metadata": {},
   "outputs": [
    {
     "data": {
      "text/html": [
       "<div>\n",
       "<style scoped>\n",
       "    .dataframe tbody tr th:only-of-type {\n",
       "        vertical-align: middle;\n",
       "    }\n",
       "\n",
       "    .dataframe tbody tr th {\n",
       "        vertical-align: top;\n",
       "    }\n",
       "\n",
       "    .dataframe thead th {\n",
       "        text-align: right;\n",
       "    }\n",
       "</style>\n",
       "<table border=\"1\" class=\"dataframe\">\n",
       "  <thead>\n",
       "    <tr style=\"text-align: right;\">\n",
       "      <th></th>\n",
       "      <th>Show Number</th>\n",
       "      <th>Air Date</th>\n",
       "      <th>Round</th>\n",
       "      <th>Category</th>\n",
       "      <th>Value</th>\n",
       "      <th>Question</th>\n",
       "      <th>Answer</th>\n",
       "      <th>clean_question</th>\n",
       "      <th>clean_answer</th>\n",
       "      <th>Float Value</th>\n",
       "    </tr>\n",
       "  </thead>\n",
       "  <tbody>\n",
       "    <tr>\n",
       "      <th>1</th>\n",
       "      <td>4680</td>\n",
       "      <td>2004-12-31</td>\n",
       "      <td>Jeopardy!</td>\n",
       "      <td>ESPN's TOP 10 ALL-TIME ATHLETES</td>\n",
       "      <td>$200</td>\n",
       "      <td>No. 2: 1912 Olympian; football star at Carlisle Indian School; 6 MLB seasons with the Reds, Giants &amp; Braves</td>\n",
       "      <td>Jim Thorpe</td>\n",
       "      <td>no 2 1912 olympian football star at carlisle indian school 6 mlb seasons with the reds giants braves</td>\n",
       "      <td>jim thorpe</td>\n",
       "      <td>200.0</td>\n",
       "    </tr>\n",
       "    <tr>\n",
       "      <th>944</th>\n",
       "      <td>3834</td>\n",
       "      <td>2001-04-12</td>\n",
       "      <td>Double Jeopardy!</td>\n",
       "      <td>THE \"BUTLER\" DID IT</td>\n",
       "      <td>$1,000</td>\n",
       "      <td>The mission statement of this school says it's located \"In...Indianapolis, one of America's most livable cities\"</td>\n",
       "      <td>Butler University</td>\n",
       "      <td>the mission statement of this school says its located inindianapolis one of americas most livable cities</td>\n",
       "      <td>butler university</td>\n",
       "      <td>1000.0</td>\n",
       "    </tr>\n",
       "    <tr>\n",
       "      <th>1451</th>\n",
       "      <td>4960</td>\n",
       "      <td>2006-03-17</td>\n",
       "      <td>Jeopardy!</td>\n",
       "      <td>COLLEGES &amp; UNIVERSITIES</td>\n",
       "      <td>$1,000</td>\n",
       "      <td>This West Lafayette, Indiana school's Hall of Music has seating for more than 6,000</td>\n",
       "      <td>Purdue</td>\n",
       "      <td>this west lafayette indiana schools hall of music has seating for more than 6000</td>\n",
       "      <td>purdue</td>\n",
       "      <td>1000.0</td>\n",
       "    </tr>\n",
       "  </tbody>\n",
       "</table>\n",
       "</div>"
      ],
      "text/plain": [
       "      Show Number   Air Date             Round  \\\n",
       "1     4680        2004-12-31  Jeopardy!          \n",
       "944   3834        2001-04-12  Double Jeopardy!   \n",
       "1451  4960        2006-03-17  Jeopardy!          \n",
       "\n",
       "                             Category   Value  \\\n",
       "1     ESPN's TOP 10 ALL-TIME ATHLETES  $200     \n",
       "944   THE \"BUTLER\" DID IT              $1,000   \n",
       "1451  COLLEGES & UNIVERSITIES          $1,000   \n",
       "\n",
       "                                                                                                              Question  \\\n",
       "1     No. 2: 1912 Olympian; football star at Carlisle Indian School; 6 MLB seasons with the Reds, Giants & Braves        \n",
       "944   The mission statement of this school says it's located \"In...Indianapolis, one of America's most livable cities\"   \n",
       "1451  This West Lafayette, Indiana school's Hall of Music has seating for more than 6,000                                \n",
       "\n",
       "                 Answer  \\\n",
       "1     Jim Thorpe          \n",
       "944   Butler University   \n",
       "1451  Purdue              \n",
       "\n",
       "                                                                                                clean_question  \\\n",
       "1     no 2 1912 olympian football star at carlisle indian school 6 mlb seasons with the reds giants braves       \n",
       "944   the mission statement of this school says its located inindianapolis one of americas most livable cities   \n",
       "1451  this west lafayette indiana schools hall of music has seating for more than 6000                           \n",
       "\n",
       "           clean_answer  Float Value  \n",
       "1     jim thorpe         200.0        \n",
       "944   butler university  1000.0       \n",
       "1451  purdue             1000.0       "
      ]
     },
     "execution_count": 53,
     "metadata": {},
     "output_type": "execute_result"
    }
   ],
   "source": [
    "filtered_2 = filter_data(df, [\"Indian\", \"School\"])\n",
    "filtered_2"
   ]
  },
  {
   "cell_type": "code",
   "execution_count": 54,
   "id": "aggregate-fellow",
   "metadata": {},
   "outputs": [
    {
     "data": {
      "text/html": [
       "<div>\n",
       "<style scoped>\n",
       "    .dataframe tbody tr th:only-of-type {\n",
       "        vertical-align: middle;\n",
       "    }\n",
       "\n",
       "    .dataframe tbody tr th {\n",
       "        vertical-align: top;\n",
       "    }\n",
       "\n",
       "    .dataframe thead th {\n",
       "        text-align: right;\n",
       "    }\n",
       "</style>\n",
       "<table border=\"1\" class=\"dataframe\">\n",
       "  <thead>\n",
       "    <tr style=\"text-align: right;\">\n",
       "      <th></th>\n",
       "      <th>Show Number</th>\n",
       "      <th>Air Date</th>\n",
       "      <th>Round</th>\n",
       "      <th>Category</th>\n",
       "      <th>Value</th>\n",
       "      <th>Question</th>\n",
       "      <th>Answer</th>\n",
       "      <th>clean_question</th>\n",
       "      <th>clean_answer</th>\n",
       "      <th>Float Value</th>\n",
       "    </tr>\n",
       "  </thead>\n",
       "  <tbody>\n",
       "    <tr>\n",
       "      <th>34</th>\n",
       "      <td>4680</td>\n",
       "      <td>2004-12-31</td>\n",
       "      <td>Double Jeopardy!</td>\n",
       "      <td>\"X\"s &amp; \"O\"s</td>\n",
       "      <td>$400</td>\n",
       "      <td>Around 100 A.D. Tacitus wrote a book on how this art of persuasive speaking had declined since Cicero</td>\n",
       "      <td>oratory</td>\n",
       "      <td>around 100 ad tacitus wrote a book on how this art of persuasive speaking had declined since cicero</td>\n",
       "      <td>oratory</td>\n",
       "      <td>400.0</td>\n",
       "    </tr>\n",
       "    <tr>\n",
       "      <th>40</th>\n",
       "      <td>4680</td>\n",
       "      <td>2004-12-31</td>\n",
       "      <td>Double Jeopardy!</td>\n",
       "      <td>DR. SEUSS AT THE MULTIPLEX</td>\n",
       "      <td>$1,200</td>\n",
       "      <td>&lt;a href=\"http://www.j-archive.com/media/2004-12-31_DJ_26.mp3\"&gt;Ripped from today's headlines, he was a turtle king gone mad; Mack was the one good turtle who'd bring him down&lt;/a&gt;</td>\n",
       "      <td>Yertle</td>\n",
       "      <td>a hrefhttpwwwjarchivecommedia20041231dj26mp3ripped from todays headlines he was a turtle king gone mad mack was the one good turtle whod bring him downa</td>\n",
       "      <td>yertle</td>\n",
       "      <td>1200.0</td>\n",
       "    </tr>\n",
       "    <tr>\n",
       "      <th>50</th>\n",
       "      <td>4680</td>\n",
       "      <td>2004-12-31</td>\n",
       "      <td>Double Jeopardy!</td>\n",
       "      <td>DR. SEUSS AT THE MULTIPLEX</td>\n",
       "      <td>$2,000</td>\n",
       "      <td>&lt;a href=\"http://www.j-archive.com/media/2004-12-31_DJ_24.mp3\"&gt;\"500 Hats\"... 500 ways to die.  On July 4th, this young boy will defy a king... &amp; become a legend&lt;/a&gt;</td>\n",
       "      <td>Bartholomew Cubbins</td>\n",
       "      <td>a hrefhttpwwwjarchivecommedia20041231dj24mp3500 hats 500 ways to die on july 4th this young boy will defy a king become a legenda</td>\n",
       "      <td>bartholomew cubbins</td>\n",
       "      <td>2000.0</td>\n",
       "    </tr>\n",
       "    <tr>\n",
       "      <th>56</th>\n",
       "      <td>5957</td>\n",
       "      <td>2010-07-06</td>\n",
       "      <td>Jeopardy!</td>\n",
       "      <td>GEOGRAPHY \"E\"</td>\n",
       "      <td>$200</td>\n",
       "      <td>It's the largest kingdom in the United Kingdom</td>\n",
       "      <td>England</td>\n",
       "      <td>its the largest kingdom in the united kingdom</td>\n",
       "      <td>england</td>\n",
       "      <td>200.0</td>\n",
       "    </tr>\n",
       "    <tr>\n",
       "      <th>72</th>\n",
       "      <td>5957</td>\n",
       "      <td>2010-07-06</td>\n",
       "      <td>Jeopardy!</td>\n",
       "      <td>LET'S BOUNCE</td>\n",
       "      <td>$600</td>\n",
       "      <td>In this kid's game, you bounce a small rubber ball while picking up 6-pronged metal objects</td>\n",
       "      <td>jacks</td>\n",
       "      <td>in this kids game you bounce a small rubber ball while picking up 6pronged metal objects</td>\n",
       "      <td>jacks</td>\n",
       "      <td>600.0</td>\n",
       "    </tr>\n",
       "    <tr>\n",
       "      <th>...</th>\n",
       "      <td>...</td>\n",
       "      <td>...</td>\n",
       "      <td>...</td>\n",
       "      <td>...</td>\n",
       "      <td>...</td>\n",
       "      <td>...</td>\n",
       "      <td>...</td>\n",
       "      <td>...</td>\n",
       "      <td>...</td>\n",
       "      <td>...</td>\n",
       "    </tr>\n",
       "    <tr>\n",
       "      <th>5503</th>\n",
       "      <td>2349</td>\n",
       "      <td>1994-11-17</td>\n",
       "      <td>Double Jeopardy!</td>\n",
       "      <td>ANCIENT HISTORY</td>\n",
       "      <td>$1,000</td>\n",
       "      <td>This Old Kingdom capital of Egypt was originally named Hikouptah</td>\n",
       "      <td>Memphis</td>\n",
       "      <td>this old kingdom capital of egypt was originally named hikouptah</td>\n",
       "      <td>memphis</td>\n",
       "      <td>1000.0</td>\n",
       "    </tr>\n",
       "    <tr>\n",
       "      <th>5590</th>\n",
       "      <td>3537</td>\n",
       "      <td>2000-01-11</td>\n",
       "      <td>Jeopardy!</td>\n",
       "      <td>ANNIVERSARY GIFTS</td>\n",
       "      <td>$400</td>\n",
       "      <td>19th century American \"King of the South\" that's a 2nd anniversary gift</td>\n",
       "      <td>Cotton</td>\n",
       "      <td>19th century american king of the south thats a 2nd anniversary gift</td>\n",
       "      <td>cotton</td>\n",
       "      <td>400.0</td>\n",
       "    </tr>\n",
       "    <tr>\n",
       "      <th>5643</th>\n",
       "      <td>3911</td>\n",
       "      <td>2001-09-10</td>\n",
       "      <td>Jeopardy!</td>\n",
       "      <td>LARRY KING'S PUBLIC FIGURES</td>\n",
       "      <td>$300</td>\n",
       "      <td>At the bottom of the hour, bet you won't miss my chat with this all time \"hit king\" of baseball...Cincinnati, hello?</td>\n",
       "      <td>Pete Rose</td>\n",
       "      <td>at the bottom of the hour bet you wont miss my chat with this all time hit king of baseballcincinnati hello</td>\n",
       "      <td>pete rose</td>\n",
       "      <td>300.0</td>\n",
       "    </tr>\n",
       "    <tr>\n",
       "      <th>5647</th>\n",
       "      <td>3911</td>\n",
       "      <td>2001-09-10</td>\n",
       "      <td>Jeopardy!</td>\n",
       "      <td>EXPORTS</td>\n",
       "      <td>$300</td>\n",
       "      <td>This crop is king in Mali; about 1/2 of its export income comes from it</td>\n",
       "      <td>cotton</td>\n",
       "      <td>this crop is king in mali about 12 of its export income comes from it</td>\n",
       "      <td>cotton</td>\n",
       "      <td>300.0</td>\n",
       "    </tr>\n",
       "    <tr>\n",
       "      <th>5649</th>\n",
       "      <td>3911</td>\n",
       "      <td>2001-09-10</td>\n",
       "      <td>Jeopardy!</td>\n",
       "      <td>LARRY KING'S PUBLIC FIGURES</td>\n",
       "      <td>$400</td>\n",
       "      <td>A special Larry King tonight this \"wubbulous\" children's author &amp; his thoughts on Rosie starring in his big Broadway show</td>\n",
       "      <td>Dr. Seuss</td>\n",
       "      <td>a special larry king tonight this wubbulous childrens author his thoughts on rosie starring in his big broadway show</td>\n",
       "      <td>dr seuss</td>\n",
       "      <td>400.0</td>\n",
       "    </tr>\n",
       "  </tbody>\n",
       "</table>\n",
       "<p>185 rows × 10 columns</p>\n",
       "</div>"
      ],
      "text/plain": [
       "      Show Number   Air Date             Round                     Category  \\\n",
       "34    4680        2004-12-31  Double Jeopardy!  \"X\"s & \"O\"s                   \n",
       "40    4680        2004-12-31  Double Jeopardy!  DR. SEUSS AT THE MULTIPLEX    \n",
       "50    4680        2004-12-31  Double Jeopardy!  DR. SEUSS AT THE MULTIPLEX    \n",
       "56    5957        2010-07-06  Jeopardy!         GEOGRAPHY \"E\"                 \n",
       "72    5957        2010-07-06  Jeopardy!         LET'S BOUNCE                  \n",
       "...    ...               ...        ...                  ...                  \n",
       "5503  2349        1994-11-17  Double Jeopardy!  ANCIENT HISTORY               \n",
       "5590  3537        2000-01-11  Jeopardy!         ANNIVERSARY GIFTS             \n",
       "5643  3911        2001-09-10  Jeopardy!         LARRY KING'S PUBLIC FIGURES   \n",
       "5647  3911        2001-09-10  Jeopardy!         EXPORTS                       \n",
       "5649  3911        2001-09-10  Jeopardy!         LARRY KING'S PUBLIC FIGURES   \n",
       "\n",
       "       Value  \\\n",
       "34    $400     \n",
       "40    $1,200   \n",
       "50    $2,000   \n",
       "56    $200     \n",
       "72    $600     \n",
       "...    ...     \n",
       "5503  $1,000   \n",
       "5590  $400     \n",
       "5643  $300     \n",
       "5647  $300     \n",
       "5649  $400     \n",
       "\n",
       "                                                                                                                                                                               Question  \\\n",
       "34    Around 100 A.D. Tacitus wrote a book on how this art of persuasive speaking had declined since Cicero                                                                               \n",
       "40    <a href=\"http://www.j-archive.com/media/2004-12-31_DJ_26.mp3\">Ripped from today's headlines, he was a turtle king gone mad; Mack was the one good turtle who'd bring him down</a>   \n",
       "50    <a href=\"http://www.j-archive.com/media/2004-12-31_DJ_24.mp3\">\"500 Hats\"... 500 ways to die.  On July 4th, this young boy will defy a king... & become a legend</a>                 \n",
       "56    It's the largest kingdom in the United Kingdom                                                                                                                                      \n",
       "72    In this kid's game, you bounce a small rubber ball while picking up 6-pronged metal objects                                                                                         \n",
       "...                                                                                           ...                                                                                         \n",
       "5503  This Old Kingdom capital of Egypt was originally named Hikouptah                                                                                                                    \n",
       "5590  19th century American \"King of the South\" that's a 2nd anniversary gift                                                                                                             \n",
       "5643  At the bottom of the hour, bet you won't miss my chat with this all time \"hit king\" of baseball...Cincinnati, hello?                                                                \n",
       "5647  This crop is king in Mali; about 1/2 of its export income comes from it                                                                                                             \n",
       "5649  A special Larry King tonight this \"wubbulous\" children's author & his thoughts on Rosie starring in his big Broadway show                                                           \n",
       "\n",
       "                   Answer  \\\n",
       "34    oratory               \n",
       "40    Yertle                \n",
       "50    Bartholomew Cubbins   \n",
       "56    England               \n",
       "72    jacks                 \n",
       "...     ...                 \n",
       "5503  Memphis               \n",
       "5590  Cotton                \n",
       "5643  Pete Rose             \n",
       "5647  cotton                \n",
       "5649  Dr. Seuss             \n",
       "\n",
       "                                                                                                                                                clean_question  \\\n",
       "34    around 100 ad tacitus wrote a book on how this art of persuasive speaking had declined since cicero                                                        \n",
       "40    a hrefhttpwwwjarchivecommedia20041231dj26mp3ripped from todays headlines he was a turtle king gone mad mack was the one good turtle whod bring him downa   \n",
       "50    a hrefhttpwwwjarchivecommedia20041231dj24mp3500 hats 500 ways to die on july 4th this young boy will defy a king become a legenda                          \n",
       "56    its the largest kingdom in the united kingdom                                                                                                              \n",
       "72    in this kids game you bounce a small rubber ball while picking up 6pronged metal objects                                                                   \n",
       "...                                                                                        ...                                                                   \n",
       "5503  this old kingdom capital of egypt was originally named hikouptah                                                                                           \n",
       "5590  19th century american king of the south thats a 2nd anniversary gift                                                                                       \n",
       "5643  at the bottom of the hour bet you wont miss my chat with this all time hit king of baseballcincinnati hello                                                \n",
       "5647  this crop is king in mali about 12 of its export income comes from it                                                                                      \n",
       "5649  a special larry king tonight this wubbulous childrens author his thoughts on rosie starring in his big broadway show                                       \n",
       "\n",
       "             clean_answer  Float Value  \n",
       "34    oratory              400.0        \n",
       "40    yertle               1200.0       \n",
       "50    bartholomew cubbins  2000.0       \n",
       "56    england              200.0        \n",
       "72    jacks                600.0        \n",
       "...     ...                  ...        \n",
       "5503  memphis              1000.0       \n",
       "5590  cotton               400.0        \n",
       "5643  pete rose            300.0        \n",
       "5647  cotton               300.0        \n",
       "5649  dr seuss             400.0        \n",
       "\n",
       "[185 rows x 10 columns]"
      ]
     },
     "execution_count": 54,
     "metadata": {},
     "output_type": "execute_result"
    }
   ],
   "source": [
    "filtered_3 = filter_data(df, [\"King\"])\n",
    "filtered_3"
   ]
  },
  {
   "cell_type": "markdown",
   "id": "twelve-verification",
   "metadata": {},
   "source": [
    "#### 3. Computing aggregate statistics\n",
    "\n",
    "Now we want to eventually compute aggregate statistics, like .mean() on the \" Value\" column."
   ]
  },
  {
   "cell_type": "code",
   "execution_count": 55,
   "id": "capital-algorithm",
   "metadata": {},
   "outputs": [
    {
     "name": "stdout",
     "output_type": "stream",
     "text": [
      "670.8108108108108\n"
     ]
    }
   ],
   "source": [
    "# Filtering the dataset and finding the average value of those questions\n",
    "filtered = filter_data(df, [\"King\"])\n",
    "print(filtered[\"Float Value\"].mean())\n"
   ]
  },
  {
   "cell_type": "markdown",
   "id": "pediatric-chocolate",
   "metadata": {},
   "source": [
    "So, the average value of questions that contain the word \"King\" is around 670."
   ]
  },
  {
   "cell_type": "markdown",
   "id": "optical-sixth",
   "metadata": {},
   "source": [
    "### Let's write a function that returns the count of the unique answers to all of the questions in a dataset.\n",
    "\n",
    "For example, after filtering the entire dataset to only questions containing the word \"King\", we could then find all of the unique answers to those questions"
   ]
  },
  {
   "cell_type": "markdown",
   "id": "vertical-cradle",
   "metadata": {},
   "source": [
    "#### 1. Defining the function:"
   ]
  },
  {
   "cell_type": "code",
   "execution_count": 56,
   "id": "presidential-ideal",
   "metadata": {},
   "outputs": [],
   "source": [
    "# A function to find the unique answers of a set of data\n",
    "def get_answer_counts(data):\n",
    "    return data[\"Answer\"].value_counts()"
   ]
  },
  {
   "cell_type": "markdown",
   "id": "affiliated-samuel",
   "metadata": {},
   "source": [
    "#### 2. Testing the function:"
   ]
  },
  {
   "cell_type": "code",
   "execution_count": 57,
   "id": "consistent-atlantic",
   "metadata": {},
   "outputs": [
    {
     "data": {
      "text/plain": [
       "Henry VIII                      3\n",
       "Louisiana                       2\n",
       "Richard III                     2\n",
       "cotton                          1\n",
       "Merlin                          1\n",
       "                               ..\n",
       "PayPal                          1\n",
       "a picture                       1\n",
       "Romania                         1\n",
       "Philately (stamp collecting)    1\n",
       "Bald eagle                      1\n",
       "Name: Answer, Length: 181, dtype: int64"
      ]
     },
     "execution_count": 57,
     "metadata": {},
     "output_type": "execute_result"
    }
   ],
   "source": [
    "# Testing the answer count function\n",
    "get_answer_counts(filtered)"
   ]
  },
  {
   "cell_type": "markdown",
   "id": "stretch-candle",
   "metadata": {},
   "source": [
    "After filtering the entire dataset to only questions containing the word \"King\", we could that the answer “Henry VIII” appeared 3 times and was the most common answer.\n",
    "\n",
    "We can do this for other words too."
   ]
  },
  {
   "cell_type": "markdown",
   "id": "seeing-artwork",
   "metadata": {},
   "source": [
    "### Recycled Questions\n",
    "\n",
    "Without access to the entire Jeopardy question dataset, we can't know exactly if a question is a repeat of an older one, but we can still investigate how often complex words reoccur."
   ]
  },
  {
   "cell_type": "markdown",
   "id": "alpine-hopkins",
   "metadata": {},
   "source": [
    "#### 1. Defining the function:"
   ]
  },
  {
   "cell_type": "code",
   "execution_count": 58,
   "id": "danish-civilian",
   "metadata": {},
   "outputs": [],
   "source": [
    "\n",
    "question_overlap = []\n",
    "terms_used = set()\n",
    "\n",
    "df = df.sort_values('Air Date')\n",
    "\n",
    "for i, row in df.iterrows():\n",
    "    split_question = row['Question'].split(' ')\n",
    "    split_question = [q for q in split_question if len(q) > 5]\n",
    "    \n",
    "    match_count = 0\n",
    "    \n",
    "    for word in split_question:\n",
    "        if word in terms_used:\n",
    "            match_count += 1\n",
    "    for word in split_question:\n",
    "        terms_used.add(word)\n",
    "    if len(split_question) > 0:\n",
    "        match_count /= len(split_question)\n",
    "    question_overlap.append(match_count)"
   ]
  },
  {
   "cell_type": "markdown",
   "id": "operational-round",
   "metadata": {},
   "source": [
    "#### 2. Testing the function:"
   ]
  },
  {
   "cell_type": "code",
   "execution_count": 59,
   "id": "fewer-folder",
   "metadata": {},
   "outputs": [
    {
     "data": {
      "text/plain": [
       "0.4244994573320742"
      ]
     },
     "execution_count": 59,
     "metadata": {},
     "output_type": "execute_result"
    }
   ],
   "source": [
    "df['question_overlap'] = question_overlap\n",
    "df['question_overlap'].mean()"
   ]
  },
  {
   "cell_type": "markdown",
   "id": "occupied-creativity",
   "metadata": {},
   "source": [
    "It looks like approximately 40% of the terms in the new questions and old questions overlap. This only looks at single terms, but it tells us this is something worth looking into more."
   ]
  },
  {
   "cell_type": "markdown",
   "id": "trained-possible",
   "metadata": {},
   "source": [
    "### Conclusion & Next Steps\n",
    "\n",
    "In this project we performed some hypothesis testing to see if there were any good potential strategies to win Jeopardy.\n",
    "\n",
    "Some next steps we could take to further our analysis could be to do the following:\n",
    "\n",
    "- Investigate the ways in which questions change over time by filtering by the date. How many questions from the 90s use the word \"Computer\" compared to questions from the 2000s?\n",
    "\n",
    "- Is there a connection between the round and the category? Are you more likely to find certain categories, like \"Literature\" in Single Jeopardy or Double Jeopardy?\n",
    "\n",
    "- Find a better way to remove non-informative words by manually removing words like 'the', 'than', etc, or find a list of stop-words, or remove words that occur in more than a certain percentage of questions.\n",
    "\n",
    "- Dig deeper into the Category column to see which categories appear more often and find the probability of each category appearing in each round.\n",
    "\n",
    "- Use the entire Jeopardy dataset instead of just the subset we used.\n",
    "\n",
    "- Use phrases instead of just single words to see if there is any overlap between questions."
   ]
  },
  {
   "cell_type": "code",
   "execution_count": null,
   "id": "handled-wisdom",
   "metadata": {},
   "outputs": [],
   "source": []
  }
 ],
 "metadata": {
  "kernelspec": {
   "display_name": "Python 3",
   "language": "python",
   "name": "python3"
  },
  "language_info": {
   "codemirror_mode": {
    "name": "ipython",
    "version": 3
   },
   "file_extension": ".py",
   "mimetype": "text/x-python",
   "name": "python",
   "nbconvert_exporter": "python",
   "pygments_lexer": "ipython3",
   "version": "3.8.5"
  }
 },
 "nbformat": 4,
 "nbformat_minor": 5
}

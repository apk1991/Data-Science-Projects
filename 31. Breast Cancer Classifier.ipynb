{
 "cells": [
  {
   "cell_type": "markdown",
   "id": "progressive-nevada",
   "metadata": {},
   "source": [
    "FOUNDATIONS OF MACHINE LEARNING: SUPERVISED LEARNING\n",
    "\n",
    "## Breast Cancer Classifier\n",
    "\n",
    "In this project, we will be using several Python libraries to make a K-Nearest Neighbor classifier that is trained to predict whether a patient has breast cancer."
   ]
  },
  {
   "cell_type": "markdown",
   "id": "genuine-ordinance",
   "metadata": {},
   "source": [
    "Let’s begin by importing the breast cancer data from sklearn. We want to import the function load_breast_cancer from sklearn.datasets.\n",
    "\n",
    "Once we’ve imported the dataset, let’s load the data into a variable called breast_cancer_data."
   ]
  },
  {
   "cell_type": "code",
   "execution_count": 1,
   "id": "vertical-render",
   "metadata": {},
   "outputs": [],
   "source": [
    "from sklearn.datasets import load_breast_cancer\n",
    "breast_cancer_data = load_breast_cancer()\n"
   ]
  },
  {
   "cell_type": "markdown",
   "id": "lonely-alaska",
   "metadata": {},
   "source": [
    "Let’s take a look at the data by printing breast_cancer_data.data[0]. That’s the first datapoint in our set."
   ]
  },
  {
   "cell_type": "code",
   "execution_count": 2,
   "id": "engaged-trance",
   "metadata": {},
   "outputs": [
    {
     "name": "stdout",
     "output_type": "stream",
     "text": [
      "[1.799e+01 1.038e+01 1.228e+02 1.001e+03 1.184e-01 2.776e-01 3.001e-01\n",
      " 1.471e-01 2.419e-01 7.871e-02 1.095e+00 9.053e-01 8.589e+00 1.534e+02\n",
      " 6.399e-03 4.904e-02 5.373e-02 1.587e-02 3.003e-02 6.193e-03 2.538e+01\n",
      " 1.733e+01 1.846e+02 2.019e+03 1.622e-01 6.656e-01 7.119e-01 2.654e-01\n",
      " 4.601e-01 1.189e-01]\n"
     ]
    }
   ],
   "source": [
    "\n",
    "print(breast_cancer_data.data[0])\n"
   ]
  },
  {
   "cell_type": "markdown",
   "id": "possible-raise",
   "metadata": {},
   "source": [
    "What do all of those numbers represent? Let’s also print breast_cancer_data.feature_names"
   ]
  },
  {
   "cell_type": "code",
   "execution_count": 3,
   "id": "unique-chocolate",
   "metadata": {},
   "outputs": [
    {
     "name": "stdout",
     "output_type": "stream",
     "text": [
      "['mean radius' 'mean texture' 'mean perimeter' 'mean area'\n",
      " 'mean smoothness' 'mean compactness' 'mean concavity'\n",
      " 'mean concave points' 'mean symmetry' 'mean fractal dimension'\n",
      " 'radius error' 'texture error' 'perimeter error' 'area error'\n",
      " 'smoothness error' 'compactness error' 'concavity error'\n",
      " 'concave points error' 'symmetry error' 'fractal dimension error'\n",
      " 'worst radius' 'worst texture' 'worst perimeter' 'worst area'\n",
      " 'worst smoothness' 'worst compactness' 'worst concavity'\n",
      " 'worst concave points' 'worst symmetry' 'worst fractal dimension']\n"
     ]
    }
   ],
   "source": [
    "print(breast_cancer_data.feature_names)"
   ]
  },
  {
   "cell_type": "markdown",
   "id": "light-shakespeare",
   "metadata": {},
   "source": [
    "We now have a sense of what the data looks like, but what are we trying to classify? Let’s print both breast_cancer_data.target and breast_cancer_data.target_names"
   ]
  },
  {
   "cell_type": "code",
   "execution_count": 4,
   "id": "competitive-peninsula",
   "metadata": {},
   "outputs": [
    {
     "name": "stdout",
     "output_type": "stream",
     "text": [
      "[0 0 0 0 0 0 0 0 0 0 0 0 0 0 0 0 0 0 0 1 1 1 0 0 0 0 0 0 0 0 0 0 0 0 0 0 0\n",
      " 1 0 0 0 0 0 0 0 0 1 0 1 1 1 1 1 0 0 1 0 0 1 1 1 1 0 1 0 0 1 1 1 1 0 1 0 0\n",
      " 1 0 1 0 0 1 1 1 0 0 1 0 0 0 1 1 1 0 1 1 0 0 1 1 1 0 0 1 1 1 1 0 1 1 0 1 1\n",
      " 1 1 1 1 1 1 0 0 0 1 0 0 1 1 1 0 0 1 0 1 0 0 1 0 0 1 1 0 1 1 0 1 1 1 1 0 1\n",
      " 1 1 1 1 1 1 1 1 0 1 1 1 1 0 0 1 0 1 1 0 0 1 1 0 0 1 1 1 1 0 1 1 0 0 0 1 0\n",
      " 1 0 1 1 1 0 1 1 0 0 1 0 0 0 0 1 0 0 0 1 0 1 0 1 1 0 1 0 0 0 0 1 1 0 0 1 1\n",
      " 1 0 1 1 1 1 1 0 0 1 1 0 1 1 0 0 1 0 1 1 1 1 0 1 1 1 1 1 0 1 0 0 0 0 0 0 0\n",
      " 0 0 0 0 0 0 0 1 1 1 1 1 1 0 1 0 1 1 0 1 1 0 1 0 0 1 1 1 1 1 1 1 1 1 1 1 1\n",
      " 1 0 1 1 0 1 0 1 1 1 1 1 1 1 1 1 1 1 1 1 1 0 1 1 1 0 1 0 1 1 1 1 0 0 0 1 1\n",
      " 1 1 0 1 0 1 0 1 1 1 0 1 1 1 1 1 1 1 0 0 0 1 1 1 1 1 1 1 1 1 1 1 0 0 1 0 0\n",
      " 0 1 0 0 1 1 1 1 1 0 1 1 1 1 1 0 1 1 1 0 1 1 0 0 1 1 1 1 1 1 0 1 1 1 1 1 1\n",
      " 1 0 1 1 1 1 1 0 1 1 0 1 1 1 1 1 1 1 1 1 1 1 1 0 1 0 0 1 0 1 1 1 1 1 0 1 1\n",
      " 0 1 0 1 1 0 1 0 1 1 1 1 1 1 1 1 0 0 1 1 1 1 1 1 0 1 1 1 1 1 1 1 1 1 1 0 1\n",
      " 1 1 1 1 1 1 0 1 0 1 1 0 1 1 1 1 1 0 0 1 0 1 0 1 1 1 1 1 0 1 1 0 1 0 1 0 0\n",
      " 1 1 1 0 1 1 1 1 1 1 1 1 1 1 1 0 1 0 0 1 1 1 1 1 1 1 1 1 1 1 1 1 1 1 1 1 1\n",
      " 1 1 1 1 1 1 1 0 0 0 0 0 0 1]\n",
      "['malignant' 'benign']\n"
     ]
    }
   ],
   "source": [
    "print(breast_cancer_data.target)\n",
    "print(breast_cancer_data.target_names)"
   ]
  },
  {
   "cell_type": "markdown",
   "id": "random-costs",
   "metadata": {},
   "source": [
    "## Splitting the data into Training and Validation Sets"
   ]
  },
  {
   "cell_type": "code",
   "execution_count": 7,
   "id": "ruled-founder",
   "metadata": {},
   "outputs": [],
   "source": [
    "# importing the train_test_split function from sklearn.model_selection.\n",
    "from sklearn.model_selection import train_test_split\n",
    "\n",
    "\n",
    "\n",
    "# Calling the train_test_split function. It takes several parameters:\n",
    "\n",
    "# The data you want to split (for us breast_cancer_data.data)\n",
    "# The labels associated with that data (for us, breast_cancer_data.target).\n",
    "# The test_size. This is what percentage of your data you want to be in your testing set. Let’s use test_size = 0.2\n",
    "# random_state. This will ensure that every time you run your code, the data is split in the same way. This can be any number. \n",
    "\n",
    "\n",
    "training_data, validation_data, training_labels, validation_labels = train_test_split(breast_cancer_data.data, breast_cancer_data.\n",
    "                                                                                      target, test_size = 0.2, random_state = 100)\n"
   ]
  },
  {
   "cell_type": "markdown",
   "id": "approximate-mirror",
   "metadata": {},
   "source": [
    "Let's print out the length of training_data and training_labels. They should be the same size - one label for every piece of data!"
   ]
  },
  {
   "cell_type": "code",
   "execution_count": 8,
   "id": "neutral-turkish",
   "metadata": {},
   "outputs": [
    {
     "name": "stdout",
     "output_type": "stream",
     "text": [
      "455\n",
      "455\n"
     ]
    }
   ],
   "source": [
    "print(len(training_data))\n",
    "print(len(training_labels))"
   ]
  },
  {
   "cell_type": "markdown",
   "id": "explicit-rolling",
   "metadata": {},
   "source": [
    "## Running the Classifier\n",
    "\n",
    "\n",
    "Now that we’ve created training and validation sets, we can create a KNeighborsClassifier and test its accuracy. \n",
    "Let's begin by importing KNeighborsClassifier from sklearn.neighbors."
   ]
  },
  {
   "cell_type": "code",
   "execution_count": 9,
   "id": "further-mozambique",
   "metadata": {},
   "outputs": [],
   "source": [
    "from sklearn.neighbors import KNeighborsClassifier"
   ]
  },
  {
   "cell_type": "markdown",
   "id": "present-carter",
   "metadata": {},
   "source": [
    "Now, let's create a KNeighborsClassifier where n_neighbors = 3, name the classifier 'classifier'\n",
    "\n",
    "and then train our classifier using the fit function. This function takes two parameters:\n",
    "- the training set and \n",
    "- the training labels."
   ]
  },
  {
   "cell_type": "code",
   "execution_count": 11,
   "id": "massive-dylan",
   "metadata": {},
   "outputs": [
    {
     "data": {
      "text/plain": [
       "KNeighborsClassifier(n_neighbors=3)"
      ]
     },
     "execution_count": 11,
     "metadata": {},
     "output_type": "execute_result"
    }
   ],
   "source": [
    "classifier = KNeighborsClassifier(n_neighbors = 3)\n",
    "classifier.fit(training_data, training_labels)"
   ]
  },
  {
   "cell_type": "markdown",
   "id": "confidential-interview",
   "metadata": {},
   "source": [
    "Now that the classifier has been trained, let’s find how accurate it is on the validation set by calling the classifier’s score function. \n",
    "\n",
    "score takes two parameters: \n",
    "- the validation set and \n",
    "- the validation labels"
   ]
  },
  {
   "cell_type": "code",
   "execution_count": 12,
   "id": "rural-spanish",
   "metadata": {},
   "outputs": [
    {
     "name": "stdout",
     "output_type": "stream",
     "text": [
      "0.9473684210526315\n"
     ]
    }
   ],
   "source": [
    "print(classifier.score(validation_data, validation_labels))"
   ]
  },
  {
   "cell_type": "markdown",
   "id": "stopped-fortune",
   "metadata": {},
   "source": [
    "The classifier does pretty well when k = 3. But maybe there’s a better k! \n",
    "\n",
    "Instead of k = 3, let's use a for loop which should have a variable named k that starts at 1 and increases to 100. Rather than n_neighbors always being 3, it should be this new variable k. Then we will check which k seems the best.\n",
    "\n"
   ]
  },
  {
   "cell_type": "code",
   "execution_count": 13,
   "id": "united-asthma",
   "metadata": {},
   "outputs": [
    {
     "name": "stdout",
     "output_type": "stream",
     "text": [
      "0.9298245614035088\n",
      "0.9385964912280702\n",
      "0.9473684210526315\n",
      "0.9473684210526315\n",
      "0.9473684210526315\n",
      "0.9473684210526315\n",
      "0.9473684210526315\n",
      "0.9473684210526315\n",
      "0.956140350877193\n",
      "0.956140350877193\n",
      "0.956140350877193\n",
      "0.956140350877193\n",
      "0.956140350877193\n",
      "0.956140350877193\n",
      "0.956140350877193\n",
      "0.956140350877193\n",
      "0.956140350877193\n",
      "0.956140350877193\n",
      "0.956140350877193\n",
      "0.956140350877193\n",
      "0.956140350877193\n",
      "0.956140350877193\n",
      "0.9649122807017544\n",
      "0.9649122807017544\n",
      "0.956140350877193\n",
      "0.956140350877193\n",
      "0.956140350877193\n",
      "0.956140350877193\n",
      "0.9473684210526315\n",
      "0.9473684210526315\n",
      "0.9473684210526315\n",
      "0.9473684210526315\n",
      "0.9473684210526315\n",
      "0.9473684210526315\n",
      "0.9473684210526315\n",
      "0.9473684210526315\n",
      "0.956140350877193\n",
      "0.956140350877193\n",
      "0.956140350877193\n",
      "0.956140350877193\n",
      "0.956140350877193\n",
      "0.956140350877193\n",
      "0.956140350877193\n",
      "0.9473684210526315\n",
      "0.956140350877193\n",
      "0.9473684210526315\n",
      "0.956140350877193\n",
      "0.956140350877193\n",
      "0.956140350877193\n",
      "0.956140350877193\n",
      "0.9473684210526315\n",
      "0.9473684210526315\n",
      "0.9473684210526315\n",
      "0.956140350877193\n",
      "0.956140350877193\n",
      "0.9649122807017544\n",
      "0.9473684210526315\n",
      "0.9473684210526315\n",
      "0.9385964912280702\n",
      "0.9298245614035088\n",
      "0.9298245614035088\n",
      "0.9385964912280702\n",
      "0.9473684210526315\n",
      "0.9385964912280702\n",
      "0.9385964912280702\n",
      "0.9385964912280702\n",
      "0.9385964912280702\n",
      "0.9385964912280702\n",
      "0.9385964912280702\n",
      "0.9385964912280702\n",
      "0.9385964912280702\n",
      "0.9385964912280702\n",
      "0.9385964912280702\n",
      "0.9385964912280702\n",
      "0.9385964912280702\n",
      "0.9385964912280702\n",
      "0.9298245614035088\n",
      "0.9298245614035088\n",
      "0.9298245614035088\n",
      "0.9298245614035088\n",
      "0.9210526315789473\n",
      "0.9298245614035088\n",
      "0.9210526315789473\n",
      "0.9385964912280702\n",
      "0.9298245614035088\n",
      "0.9385964912280702\n",
      "0.9385964912280702\n",
      "0.9385964912280702\n",
      "0.9298245614035088\n",
      "0.9298245614035088\n",
      "0.9210526315789473\n",
      "0.9385964912280702\n",
      "0.9210526315789473\n",
      "0.9298245614035088\n",
      "0.9298245614035088\n",
      "0.9385964912280702\n",
      "0.9298245614035088\n",
      "0.9385964912280702\n",
      "0.9298245614035088\n",
      "0.9298245614035088\n"
     ]
    }
   ],
   "source": [
    "for k in range(1,101):\n",
    "  classifier = KNeighborsClassifier(n_neighbors = k)\n",
    "  classifier.fit(training_data, training_labels)\n",
    "  print(classifier.score(validation_data, validation_labels))"
   ]
  },
  {
   "cell_type": "markdown",
   "id": "written-monte",
   "metadata": {},
   "source": [
    "## Graphing the results\n",
    "\n",
    "\n",
    "We now have the validation accuracy for 100 different ks. Rather than just printing it out, let’s make a graph using matplotlib. "
   ]
  },
  {
   "cell_type": "code",
   "execution_count": 14,
   "id": "concrete-uncertainty",
   "metadata": {},
   "outputs": [],
   "source": [
    "import matplotlib.pyplot as plt"
   ]
  },
  {
   "cell_type": "markdown",
   "id": "mineral-timer",
   "metadata": {},
   "source": [
    "The y-axis of our graph should be the validation accuracy. Instead of printing the validation accuracies, we want to add them to a list. Outside of the for loop, let's create an empty list named accuracies. Inside the for loop, instead of printing each accuracy, append it to accuracies."
   ]
  },
  {
   "cell_type": "code",
   "execution_count": 15,
   "id": "united-greenhouse",
   "metadata": {},
   "outputs": [],
   "source": [
    "accuracies = []\n",
    "\n",
    "for k in range(1,101):\n",
    "  classifier = KNeighborsClassifier(n_neighbors = k)\n",
    "  classifier.fit(training_data, training_labels)\n",
    "  accuracies.append(classifier.score(validation_data, validation_labels))"
   ]
  },
  {
   "cell_type": "markdown",
   "id": "alike-raise",
   "metadata": {},
   "source": [
    "Now, let's plot our graph with x_axis as a list from 1 to 100 for k values and y_axis as accuracies."
   ]
  },
  {
   "cell_type": "code",
   "execution_count": 16,
   "id": "specified-tours",
   "metadata": {},
   "outputs": [
    {
     "data": {
      "image/png": "[encoded data removed]",
      "text/plain": [
       "<Figure size 432x288 with 1 Axes>"
      ]
     },
     "metadata": {
      "needs_background": "light"
     },
     "output_type": "display_data"
    }
   ],
   "source": [
    "k_list = range(1,101)\n",
    "\n",
    "\n",
    "plt.plot(k_list, accuracies)\n",
    "plt.xlabel('k (n_neighbors)')\n",
    "plt.ylabel('Validation Accuracy')\n",
    "plt.title('Breast Cancer Classifier Accuracy')\n",
    "plt.show()"
   ]
  },
  {
   "cell_type": "markdown",
   "id": "desperate-texas",
   "metadata": {},
   "source": [
    "### Conclusion and Next Steps:\n",
    "\n",
    "In this project we made a K-Nearest Neighbor classifier that is trained to predict whether a patient has breast cancer.\n",
    "\n",
    "From the graph to check the best k value, we observe that the Validation Accuracy is maximum for two values of k:\n",
    "- k = 23\n",
    "- k = 56\n",
    "\n",
    "(both with Validation Accuracy = 0.9649122807017544)\n",
    "\n",
    "Next, we can try changing the random_state parameter when making the training set and validation set. This will change which points are in the training set and which are in the validation set."
   ]
  },
  {
   "cell_type": "code",
   "execution_count": null,
   "id": "greater-compatibility",
   "metadata": {},
   "outputs": [],
   "source": []
  }
 ],
 "metadata": {
  "kernelspec": {
   "display_name": "Python 3",
   "language": "python",
   "name": "python3"
  },
  "language_info": {
   "codemirror_mode": {
    "name": "ipython",
    "version": 3
   },
   "file_extension": ".py",
   "mimetype": "text/x-python",
   "name": "python",
   "nbconvert_exporter": "python",
   "pygments_lexer": "ipython3",
   "version": "3.8.5"
  }
 },
 "nbformat": 4,
 "nbformat_minor": 5
}

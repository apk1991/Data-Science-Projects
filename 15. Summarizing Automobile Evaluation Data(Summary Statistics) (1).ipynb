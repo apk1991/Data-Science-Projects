{
 "cells": [
  {
   "cell_type": "markdown",
   "id": "statewide-paintball",
   "metadata": {},
   "source": [
    "## Summary Statistics of Automobile Evaluation Data\n",
    "\n",
    "In this project we will analyze a sample from a popular open source dataset. This dataset contains information on the cost and physical attributes of several thousand cars. Originally, this dataset was used for to train a classification model that assigned an acceptability score/category to cars based on these attributes.\n",
    "\n",
    "The car evaluation dataset has been sourced from the UCI Machine Learning Repository and has been slightly modified for this project. Specifically, one additional field manufacturer_country has been simulated for illustrative purposes.More information about this dataset acn be found here https://archive.ics.uci.edu/ml/datasets/car+evaluation."
   ]
  },
  {
   "cell_type": "code",
   "execution_count": 1,
   "id": "grateful-priority",
   "metadata": {},
   "outputs": [],
   "source": [
    "import pandas as pd\n",
    "import numpy as np"
   ]
  },
  {
   "cell_type": "code",
   "execution_count": 2,
   "id": "catholic-somerset",
   "metadata": {},
   "outputs": [],
   "source": [
    "# let's load the dataset and investigate.\n",
    "\n",
    "car_eval = pd.read_csv(r\"C:\\Users\\amanp\\OneDrive\\Desktop\\car_eval.csv\")"
   ]
  },
  {
   "cell_type": "code",
   "execution_count": 3,
   "id": "czech-technician",
   "metadata": {},
   "outputs": [
    {
     "data": {
      "text/html": [
       "<div>\n",
       "<style scoped>\n",
       "    .dataframe tbody tr th:only-of-type {\n",
       "        vertical-align: middle;\n",
       "    }\n",
       "\n",
       "    .dataframe tbody tr th {\n",
       "        vertical-align: top;\n",
       "    }\n",
       "\n",
       "    .dataframe thead th {\n",
       "        text-align: right;\n",
       "    }\n",
       "</style>\n",
       "<table border=\"1\" class=\"dataframe\">\n",
       "  <thead>\n",
       "    <tr style=\"text-align: right;\">\n",
       "      <th></th>\n",
       "      <th>buying_cost</th>\n",
       "      <th>maintenance_cost</th>\n",
       "      <th>doors</th>\n",
       "      <th>capacity</th>\n",
       "      <th>luggage</th>\n",
       "      <th>safety</th>\n",
       "      <th>acceptability</th>\n",
       "      <th>manufacturer_country</th>\n",
       "    </tr>\n",
       "  </thead>\n",
       "  <tbody>\n",
       "    <tr>\n",
       "      <th>0</th>\n",
       "      <td>vhigh</td>\n",
       "      <td>low</td>\n",
       "      <td>4</td>\n",
       "      <td>4</td>\n",
       "      <td>small</td>\n",
       "      <td>med</td>\n",
       "      <td>unacc</td>\n",
       "      <td>China</td>\n",
       "    </tr>\n",
       "    <tr>\n",
       "      <th>1</th>\n",
       "      <td>vhigh</td>\n",
       "      <td>med</td>\n",
       "      <td>3</td>\n",
       "      <td>4</td>\n",
       "      <td>small</td>\n",
       "      <td>high</td>\n",
       "      <td>acc</td>\n",
       "      <td>France</td>\n",
       "    </tr>\n",
       "    <tr>\n",
       "      <th>2</th>\n",
       "      <td>med</td>\n",
       "      <td>high</td>\n",
       "      <td>3</td>\n",
       "      <td>2</td>\n",
       "      <td>med</td>\n",
       "      <td>high</td>\n",
       "      <td>unacc</td>\n",
       "      <td>United States</td>\n",
       "    </tr>\n",
       "    <tr>\n",
       "      <th>3</th>\n",
       "      <td>low</td>\n",
       "      <td>med</td>\n",
       "      <td>4</td>\n",
       "      <td>more</td>\n",
       "      <td>big</td>\n",
       "      <td>low</td>\n",
       "      <td>unacc</td>\n",
       "      <td>United States</td>\n",
       "    </tr>\n",
       "    <tr>\n",
       "      <th>4</th>\n",
       "      <td>low</td>\n",
       "      <td>high</td>\n",
       "      <td>2</td>\n",
       "      <td>more</td>\n",
       "      <td>med</td>\n",
       "      <td>high</td>\n",
       "      <td>acc</td>\n",
       "      <td>South Korea</td>\n",
       "    </tr>\n",
       "  </tbody>\n",
       "</table>\n",
       "</div>"
      ],
      "text/plain": [
       "  buying_cost maintenance_cost doors capacity luggage safety acceptability  \\\n",
       "0       vhigh              low     4        4   small    med         unacc   \n",
       "1       vhigh              med     3        4   small   high           acc   \n",
       "2         med             high     3        2     med   high         unacc   \n",
       "3         low              med     4     more     big    low         unacc   \n",
       "4         low             high     2     more     med   high           acc   \n",
       "\n",
       "  manufacturer_country  \n",
       "0                China  \n",
       "1               France  \n",
       "2        United States  \n",
       "3        United States  \n",
       "4          South Korea  "
      ]
     },
     "execution_count": 3,
     "metadata": {},
     "output_type": "execute_result"
    }
   ],
   "source": [
    "car_eval.head()"
   ]
  },
  {
   "cell_type": "markdown",
   "id": "infrared-helping",
   "metadata": {},
   "source": [
    "### Summarizing Manufacturing Country\n"
   ]
  },
  {
   "cell_type": "markdown",
   "id": "intelligent-basis",
   "metadata": {},
   "source": [
    "Manufacturer_country is a nominal categorical variable that indicates the country of the manufacturer of each car reviewed.\n",
    "Let's create a table of frequencies of all the cars reviewed by \"manufacturer_country\"."
   ]
  },
  {
   "cell_type": "code",
   "execution_count": 4,
   "id": "proper-algebra",
   "metadata": {},
   "outputs": [
    {
     "data": {
      "text/plain": [
       "Japan            228\n",
       "Germany          218\n",
       "South Korea      159\n",
       "United States    138\n",
       "Italy             97\n",
       "France            87\n",
       "China             73\n",
       "Name: manufacturer_country, dtype: int64"
      ]
     },
     "execution_count": 4,
     "metadata": {},
     "output_type": "execute_result"
    }
   ],
   "source": [
    " # `.value_counts()` produces a table of frequencies in order, we can reference the N-th row of this table to find the Nth most \n",
    "# common value in the data. \n",
    "\n",
    "car_eval.manufacturer_country.value_counts()"
   ]
  },
  {
   "cell_type": "markdown",
   "id": "figured-incentive",
   "metadata": {},
   "source": [
    "Let's calculate a table of proportions for countries that appear in \"manufacturer_country\" in the dataset."
   ]
  },
  {
   "cell_type": "code",
   "execution_count": 5,
   "id": "altered-intention",
   "metadata": {},
   "outputs": [
    {
     "data": {
      "text/plain": [
       "Japan            0.228\n",
       "Germany          0.218\n",
       "South Korea      0.159\n",
       "United States    0.138\n",
       "Italy            0.097\n",
       "France           0.087\n",
       "China            0.073\n",
       "Name: manufacturer_country, dtype: float64"
      ]
     },
     "execution_count": 5,
     "metadata": {},
     "output_type": "execute_result"
    }
   ],
   "source": [
    " # We can do this by using normalize w. `.value_counts()` normalizes the table of frequencies that `.value_counts() \n",
    "# produces by default to a table of proportions. A table of frequencies takes the count of observations, a table of proportions \n",
    "# takes the proportion each value represents of the total. \n",
    "\n",
    "car_eval.manufacturer_country.value_counts(normalize=True)"
   ]
  },
  {
   "cell_type": "markdown",
   "id": "embedded-series",
   "metadata": {},
   "source": [
    "### Summarizing Buying Costs"
   ]
  },
  {
   "cell_type": "markdown",
   "id": "scientific-halifax",
   "metadata": {},
   "source": [
    "\"buying_cost\" is a categorical variable which describes the cost of buying any car in the dataset. Let's print out a list of the possible values for this variable."
   ]
  },
  {
   "cell_type": "code",
   "execution_count": 6,
   "id": "freelance-framing",
   "metadata": {},
   "outputs": [
    {
     "data": {
      "text/plain": [
       "array(['vhigh', 'med', 'low', 'high'], dtype=object)"
      ]
     },
     "execution_count": 6,
     "metadata": {},
     "output_type": "execute_result"
    }
   ],
   "source": [
    "# The `.unique()` method strips all unique values from a column. \n",
    "\n",
    "car_eval[\"buying_cost\"].unique()"
   ]
  },
  {
   "cell_type": "markdown",
   "id": "essential-impact",
   "metadata": {},
   "source": [
    "Buying_cost is an ordinal categorical variable, which means we can create an order associated with the values in the data and perform additional numeric operations on the variable.\n",
    "Let's create a list of the unique categories in from lowest to highest cost in the \"buying_cost\" variable."
   ]
  },
  {
   "cell_type": "code",
   "execution_count": 7,
   "id": "processed-scout",
   "metadata": {},
   "outputs": [
    {
     "name": "stdout",
     "output_type": "stream",
     "text": [
      "['low', 'med', 'high', 'vhigh']\n"
     ]
    }
   ],
   "source": [
    "buying_cost_categories = ['low', 'med', 'high', 'vhigh']\n",
    "print(buying_cost_categories)"
   ]
  },
  {
   "cell_type": "markdown",
   "id": "correct-scotland",
   "metadata": {},
   "source": [
    "Now, let's convert `buying_cost` to type `'category'` using the order created above."
   ]
  },
  {
   "cell_type": "code",
   "execution_count": 8,
   "id": "proved-coordinate",
   "metadata": {},
   "outputs": [
    {
     "data": {
      "text/plain": [
       "0      vhigh\n",
       "1      vhigh\n",
       "2        med\n",
       "3        low\n",
       "4        low\n",
       "       ...  \n",
       "995      low\n",
       "996      low\n",
       "997    vhigh\n",
       "998      low\n",
       "999      low\n",
       "Name: buying_cost, Length: 1000, dtype: category\n",
       "Categories (4, object): ['low' < 'med' < 'high' < 'vhigh']"
      ]
     },
     "execution_count": 8,
     "metadata": {},
     "output_type": "execute_result"
    }
   ],
   "source": [
    "# We can convert a field to type category using the function `pandas.Categorical()`. The pandas categorical type allows us to \n",
    "# perform numeric operations on categorical data.\n",
    "\n",
    "# We can also check the column has type category by checking `print(car_eval.buying_cost)`.\n",
    "\n",
    "car_eval[\"buying_cost\"] = pd.Categorical(\n",
    "    car_eval[\"buying_cost\"],\n",
    "    buying_cost_categories,\n",
    "    ordered=True\n",
    ")\n",
    "\n",
    "car_eval.buying_cost"
   ]
  },
  {
   "cell_type": "markdown",
   "id": "neither-security",
   "metadata": {},
   "source": [
    "Finally, let's calculate the median category of the `buying_cost` variable."
   ]
  },
  {
   "cell_type": "code",
   "execution_count": 9,
   "id": "built-jason",
   "metadata": {},
   "outputs": [
    {
     "name": "stdout",
     "output_type": "stream",
     "text": [
      "1.0\n",
      "med\n"
     ]
    }
   ],
   "source": [
    "# In Python, we can use `np.median()` to calculate the median value of a numerical series. In this case, we also must access \n",
    "# the numerical values of the categories. This can be done with the `.cat.codes` attribute. \n",
    "\n",
    "\n",
    "median_category_num = np.median(car_eval['buying_cost'].cat.codes)\n",
    "print(median_category_num) \n",
    "\n",
    "median_category = buying_cost_categories[int(median_category_num)]\n",
    "print(median_category)"
   ]
  },
  {
   "cell_type": "markdown",
   "id": "elect-adolescent",
   "metadata": {},
   "source": [
    "### Summarizing Luggage Capacity"
   ]
  },
  {
   "cell_type": "markdown",
   "id": "romantic-finish",
   "metadata": {},
   "source": [
    "\n",
    "Luggage is a categorical variable in the car evaluations dataset that records the luggage capacity for each reviewed car.\n",
    "Let's calculate a table of proportions for 'luggage'."
   ]
  },
  {
   "cell_type": "code",
   "execution_count": 10,
   "id": "casual-footage",
   "metadata": {},
   "outputs": [
    {
     "data": {
      "text/plain": [
       "small    0.339\n",
       "med      0.333\n",
       "big      0.328\n",
       "Name: luggage, dtype: float64"
      ]
     },
     "execution_count": 10,
     "metadata": {},
     "output_type": "execute_result"
    }
   ],
   "source": [
    "car_eval.luggage.value_counts(normalize=True)"
   ]
  },
  {
   "cell_type": "markdown",
   "id": "southern-premium",
   "metadata": {},
   "source": [
    "Without passing `normalize = True` to `.value_counts()`, let's replicate the result we got above."
   ]
  },
  {
   "cell_type": "code",
   "execution_count": 11,
   "id": "incorporate-benefit",
   "metadata": {},
   "outputs": [
    {
     "name": "stdout",
     "output_type": "stream",
     "text": [
      "small    0.339\n",
      "med      0.333\n",
      "big      0.328\n",
      "Name: luggage, dtype: float64\n",
      "small    0.339\n",
      "med      0.333\n",
      "big      0.328\n",
      "Name: luggage, dtype: float64\n"
     ]
    }
   ],
   "source": [
    "# This method relies on `luggage` having no null values. \n",
    "# If a field does have nulls the more robust solution is, using the `.count()` method excludes NULLs in the denominator just \n",
    "# as `.value_counts(normalize=True)` does\n",
    "\n",
    "print(car_eval.luggage.value_counts()/len(car_eval.luggage))\n",
    "\n",
    "# Safe alternative if there are Nulls:\n",
    "\n",
    "print(car_eval.luggage.value_counts()/car_eval.luggage.count())"
   ]
  },
  {
   "cell_type": "markdown",
   "id": "selected-earthquake",
   "metadata": {},
   "source": [
    "### Summarizing Passenger Capacity\n",
    "\n",
    "Doors is a categorical variable in the car evaluations dataset that records the count of doors for each reviewed car. \n",
    "Let's find the frequency and proportion of cars that have 5 or more doors. "
   ]
  },
  {
   "cell_type": "code",
   "execution_count": 12,
   "id": "opposed-metro",
   "metadata": {},
   "outputs": [
    {
     "name": "stdout",
     "output_type": "stream",
     "text": [
      "246\n",
      "0.246\n"
     ]
    }
   ],
   "source": [
    "# We must first create a series that evaluates to true/false values. \n",
    "# Then, by calling .sum() and .mean() on this series the value and count of \n",
    "# `True`/1 values are calculated\n",
    "\n",
    "\n",
    "frequency = (car_eval.doors == '5more').sum()\n",
    "proportion = (car_eval.doors == '5more').mean()\n",
    "print(frequency)\n",
    "print(proportion)"
   ]
  },
  {
   "cell_type": "markdown",
   "id": "preceding-blanket",
   "metadata": {},
   "source": [
    "### Conclusion:\n",
    "In this project, we summarized the following features from the Automobile data:\n",
    "1. Table of proportions for the country of the manufacturer of each car.\n",
    "2. Median category of the buying_cost variable, which came out to be 'mediam'.\n",
    "3. Table of proportions for the luggage capacity of small, mediam and big cars, which came out to be 33.9%, 33.3% and 32.8% respectively.\n",
    "4. Propotion of cars that have 5 or more doors, that come out to be 24.6%."
   ]
  },
  {
   "cell_type": "code",
   "execution_count": null,
   "id": "absent-clone",
   "metadata": {},
   "outputs": [],
   "source": []
  },
  {
   "cell_type": "code",
   "execution_count": null,
   "id": "adolescent-marijuana",
   "metadata": {},
   "outputs": [],
   "source": []
  },
  {
   "cell_type": "code",
   "execution_count": null,
   "id": "appropriate-region",
   "metadata": {},
   "outputs": [],
   "source": []
  }
 ],
 "metadata": {
  "kernelspec": {
   "display_name": "Python 3",
   "language": "python",
   "name": "python3"
  },
  "language_info": {
   "codemirror_mode": {
    "name": "ipython",
    "version": 3
   },
   "file_extension": ".py",
   "mimetype": "text/x-python",
   "name": "python",
   "nbconvert_exporter": "python",
   "pygments_lexer": "ipython3",
   "version": "3.8.5"
  }
 },
 "nbformat": 4,
 "nbformat_minor": 5
}

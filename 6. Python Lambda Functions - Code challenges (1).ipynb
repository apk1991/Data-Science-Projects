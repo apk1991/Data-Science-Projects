{
 "cells": [
  {
   "cell_type": "markdown",
   "id": "noted-price",
   "metadata": {},
   "source": [
    "## In this project we will review python lambda functions by doing some code challenges"
   ]
  },
  {
   "cell_type": "markdown",
   "id": "visible-cause",
   "metadata": {},
   "source": [
    "## 1. Contains A\n",
    "### Create a lambda function named contains_a that takes an input word and returns True if the input contains the letter 'a'. Otherwise, return False."
   ]
  },
  {
   "cell_type": "code",
   "execution_count": 2,
   "id": "dressed-canada",
   "metadata": {},
   "outputs": [
    {
     "name": "stdout",
     "output_type": "stream",
     "text": [
      "True\n",
      "True\n",
      "False\n"
     ]
    }
   ],
   "source": [
    "contains_a = lambda word: \"a\" in word\n",
    "print(contains_a(\"banana\"))\n",
    "print(contains_a(\"apple\"))\n",
    "print(contains_a(\"cherry\"))\n"
   ]
  },
  {
   "cell_type": "markdown",
   "id": "listed-january",
   "metadata": {},
   "source": [
    "## 2. Long String\n",
    "### Create a lambda function named long_string that takes an input str and returns True if the string has over 12 characters in it. Otherwise, return False."
   ]
  },
  {
   "cell_type": "code",
   "execution_count": 3,
   "id": "unlimited-richards",
   "metadata": {},
   "outputs": [
    {
     "name": "stdout",
     "output_type": "stream",
     "text": [
      "False\n",
      "True\n"
     ]
    }
   ],
   "source": [
    "long_string = lambda str: len(str) > 12\n",
    "\n",
    "print(long_string(\"short\"))\n",
    "print(long_string(\"photosynthesis\"))"
   ]
  },
  {
   "cell_type": "markdown",
   "id": "transsexual-senate",
   "metadata": {},
   "source": [
    "## 3. Ends with A\n",
    "### Create a lambda function named ends_in_a that takes an input str and returns True if the last character in the string is an a. Otherwise, return False."
   ]
  },
  {
   "cell_type": "code",
   "execution_count": 4,
   "id": "sustainable-packet",
   "metadata": {},
   "outputs": [
    {
     "name": "stdout",
     "output_type": "stream",
     "text": [
      "True\n",
      "False\n"
     ]
    }
   ],
   "source": [
    "ends_in_a = lambda str: str[-1] == \"a\"\n",
    "\n",
    "print(ends_in_a(\"data\"))\n",
    "print(ends_in_a(\"aardvark\"))"
   ]
  },
  {
   "cell_type": "markdown",
   "id": "moved-projector",
   "metadata": {},
   "source": [
    "## 4. Double or Zero\n",
    "### Create a lambda function named double_or_zero that takes an integer named num. If num is greater than 10, return double num. Otherwise, return 0."
   ]
  },
  {
   "cell_type": "code",
   "execution_count": 5,
   "id": "athletic-default",
   "metadata": {},
   "outputs": [
    {
     "name": "stdout",
     "output_type": "stream",
     "text": [
      "30\n",
      "0\n"
     ]
    }
   ],
   "source": [
    "double_or_zero = lambda num: num*2 if num>10 else 0\n",
    "print(double_or_zero(15))\n",
    "print(double_or_zero(5))"
   ]
  },
  {
   "cell_type": "markdown",
   "id": "joint-crossing",
   "metadata": {},
   "source": [
    "## 5. Even/Odd\n",
    "### Create a lambda function named even_or_odd that takes an integer named num. If num is even, return \"even\". If num is odd, return \"odd\"."
   ]
  },
  {
   "cell_type": "code",
   "execution_count": 6,
   "id": "olive-panic",
   "metadata": {},
   "outputs": [
    {
     "name": "stdout",
     "output_type": "stream",
     "text": [
      "even\n",
      "odd\n"
     ]
    }
   ],
   "source": [
    "even_or_odd = lambda num: \"even\" if num%2 ==0 else \"odd\"\n",
    "\n",
    "print(even_or_odd(10))\n",
    "print(even_or_odd(5))"
   ]
  },
  {
   "cell_type": "markdown",
   "id": "disabled-greek",
   "metadata": {},
   "source": [
    "## 6. Multiple of Three\n",
    "### Create a lambda function named multiple_of_three that takes an integer named num. If num is a multiple of three, return \"multiple of three\". Otherwise, return \"not a multiple\"."
   ]
  },
  {
   "cell_type": "code",
   "execution_count": 7,
   "id": "virtual-colony",
   "metadata": {},
   "outputs": [
    {
     "name": "stdout",
     "output_type": "stream",
     "text": [
      "multiple of three\n",
      "not a multiple\n"
     ]
    }
   ],
   "source": [
    "multiple_of_three = lambda num: \"multiple of three\" if num%3 == 0 else \"not a multiple\"\n",
    "print(multiple_of_three(9))\n",
    "print(multiple_of_three(10))"
   ]
  },
  {
   "cell_type": "markdown",
   "id": "practical-denmark",
   "metadata": {},
   "source": [
    "## 7. Movie Rating\n",
    "### Create a lambda function named rate_movie that takes a number named rating. If rating is greater than 8.5, return \"I liked this movie\". Otherwise return \"This movie was not very good\"."
   ]
  },
  {
   "cell_type": "code",
   "execution_count": 8,
   "id": "isolated-lafayette",
   "metadata": {},
   "outputs": [
    {
     "name": "stdout",
     "output_type": "stream",
     "text": [
      "I liked this movie\n",
      "This movie was not very good\n"
     ]
    }
   ],
   "source": [
    "rate_movie = lambda rating: \"I liked this movie\" if rating > 8.5 else \"This movie was not very good\"\n",
    "\n",
    "print(rate_movie(9.2))\n",
    "print(rate_movie(7.2))"
   ]
  },
  {
   "cell_type": "markdown",
   "id": "italian-schedule",
   "metadata": {},
   "source": [
    "## 8. One's place\n",
    "### Create a lambda function named ones_place that returns the ones’ place of the input num."
   ]
  },
  {
   "cell_type": "code",
   "execution_count": 9,
   "id": "foster-technique",
   "metadata": {},
   "outputs": [
    {
     "name": "stdout",
     "output_type": "stream",
     "text": [
      "3\n",
      "4\n"
     ]
    }
   ],
   "source": [
    "# We can use the modulo function (%) with 10 to find the ones’ place of an integer\n",
    "ones_place = lambda num: num%10\n",
    "\n",
    "print(ones_place(123))\n",
    "print(ones_place(4))"
   ]
  },
  {
   "cell_type": "markdown",
   "id": "moving-insider",
   "metadata": {},
   "source": [
    "## 9. Double Square\n",
    "### Create a lambda function named double_square that takes an input named num. The function should return twice the square of num."
   ]
  },
  {
   "cell_type": "code",
   "execution_count": 10,
   "id": "absent-timer",
   "metadata": {},
   "outputs": [
    {
     "name": "stdout",
     "output_type": "stream",
     "text": [
      "50\n",
      "18\n"
     ]
    }
   ],
   "source": [
    "double_square = lambda num: 2*num*num\n",
    "\n",
    "print(double_square(5))\n",
    "print(double_square(3))"
   ]
  },
  {
   "cell_type": "markdown",
   "id": "dynamic-parts",
   "metadata": {},
   "source": [
    "## 10. Add random\n",
    "### Create a lambda function named add_random that takes an input named num. The function should return num plus a random integer number between 1 and 10 (inclusive)."
   ]
  },
  {
   "cell_type": "code",
   "execution_count": 11,
   "id": "incorporate-scholarship",
   "metadata": {},
   "outputs": [],
   "source": [
    "import random"
   ]
  },
  {
   "cell_type": "code",
   "execution_count": 13,
   "id": "ignored-infrared",
   "metadata": {},
   "outputs": [
    {
     "name": "stdout",
     "output_type": "stream",
     "text": [
      "15\n",
      "104\n",
      "12\n"
     ]
    }
   ],
   "source": [
    "# random.randint(a,b) will return an integer between a and b (inclusive).\n",
    "# So, random.randint(5, 8) could return any integer between 5 and 8 including both 5 and 8. \n",
    "# random.randint(0, 100) could return any integer between 0 and 100 including both 0 and 100.\n",
    "\n",
    "add_random = lambda num: num+random.randint(1,10)\n",
    "print(add_random(5))\n",
    "print(add_random(100))\n",
    "print(add_random(5))"
   ]
  }
 ],
 "metadata": {
  "kernelspec": {
   "display_name": "Python 3",
   "language": "python",
   "name": "python3"
  },
  "language_info": {
   "codemirror_mode": {
    "name": "ipython",
    "version": 3
   },
   "file_extension": ".py",
   "mimetype": "text/x-python",
   "name": "python",
   "nbconvert_exporter": "python",
   "pygments_lexer": "ipython3",
   "version": "3.8.5"
  }
 },
 "nbformat": 4,
 "nbformat_minor": 5
}
